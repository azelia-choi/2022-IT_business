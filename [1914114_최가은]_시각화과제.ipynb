{
  "nbformat": 4,
  "nbformat_minor": 0,
  "metadata": {
    "colab": {
      "provenance": [],
      "collapsed_sections": [],
      "authorship_tag": "ABX9TyOipqbmVXhLrVkef5ZYzGkJ",
      "include_colab_link": true
    },
    "kernelspec": {
      "name": "python3",
      "display_name": "Python 3"
    },
    "language_info": {
      "name": "python"
    }
  },
  "cells": [
    {
      "cell_type": "markdown",
      "metadata": {
        "id": "view-in-github",
        "colab_type": "text"
      },
      "source": [
        "<a href=\"https://colab.research.google.com/github/azelia-choi/ITB2022/blob/main/%5B1914114_%EC%B5%9C%EA%B0%80%EC%9D%80%5D_%EC%8B%9C%EA%B0%81%ED%99%94%EA%B3%BC%EC%A0%9C.ipynb\" target=\"_parent\"><img src=\"https://colab.research.google.com/assets/colab-badge.svg\" alt=\"Open In Colab\"/></a>"
      ]
    },
    {
      "cell_type": "markdown",
      "source": [
        "#Part0. 데이터 불러오기💻"
      ],
      "metadata": {
        "id": "r0OUKWV4lb2O"
      }
    },
    {
      "cell_type": "code",
      "execution_count": 2,
      "metadata": {
        "id": "EnY_qIkqiz3E",
        "colab": {
          "base_uri": "https://localhost:8080/"
        },
        "outputId": "4abf22ef-b36c-4e62-b612-476b2cf48858"
      },
      "outputs": [
        {
          "output_type": "stream",
          "name": "stdout",
          "text": [
            "Drive already mounted at /content/drive; to attempt to forcibly remount, call drive.mount(\"/content/drive\", force_remount=True).\n"
          ]
        }
      ],
      "source": [
        "from google.colab import drive\n",
        "drive.mount('/content/drive')"
      ]
    },
    {
      "cell_type": "code",
      "source": [
        "import pandas as pd\n",
        "\n",
        "data = pd.read_csv(\"/content/drive/My Drive/Colab Notebooks/ITB/health_data.csv\")"
      ],
      "metadata": {
        "id": "LHjBooWwjMgh"
      },
      "execution_count": 3,
      "outputs": []
    },
    {
      "cell_type": "code",
      "source": [
        "#필요한 라이브러리 import\n",
        "import numpy as np\n",
        "import matplotlib as mpl\n",
        "import matplotlib.pyplot as plt\n",
        "%matplotlib inline\n",
        "import seaborn as sns\n",
        "import missingno as msno\n",
        "from scipy import stats"
      ],
      "metadata": {
        "id": "zssMfEhSlDBR"
      },
      "execution_count": 4,
      "outputs": []
    },
    {
      "cell_type": "code",
      "source": [
        "#맥북 폰트 설정\n",
        "!sudo apt-get install -y fonts-nanum\n",
        "!sudo fc-cache -fv\n",
        "!rm ~/.cache/matplotlib -rf"
      ],
      "metadata": {
        "colab": {
          "base_uri": "https://localhost:8080/"
        },
        "id": "GIrpZj63qdf4",
        "outputId": "54f91800-bdd6-4ee6-9531-93b3958edb07"
      },
      "execution_count": 28,
      "outputs": [
        {
          "output_type": "stream",
          "name": "stdout",
          "text": [
            "Reading package lists... Done\n",
            "Building dependency tree       \n",
            "Reading state information... Done\n",
            "fonts-nanum is already the newest version (20170925-1).\n",
            "The following package was automatically installed and is no longer required:\n",
            "  libnvidia-common-460\n",
            "Use 'sudo apt autoremove' to remove it.\n",
            "0 upgraded, 0 newly installed, 0 to remove and 29 not upgraded.\n",
            "/usr/share/fonts: caching, new cache contents: 0 fonts, 1 dirs\n",
            "/usr/share/fonts/truetype: caching, new cache contents: 0 fonts, 3 dirs\n",
            "/usr/share/fonts/truetype/humor-sans: caching, new cache contents: 1 fonts, 0 dirs\n",
            "/usr/share/fonts/truetype/liberation: caching, new cache contents: 16 fonts, 0 dirs\n",
            "/usr/share/fonts/truetype/nanum: caching, new cache contents: 10 fonts, 0 dirs\n",
            "/usr/local/share/fonts: caching, new cache contents: 0 fonts, 0 dirs\n",
            "/root/.local/share/fonts: skipping, no such directory\n",
            "/root/.fonts: skipping, no such directory\n",
            "/var/cache/fontconfig: cleaning cache directory\n",
            "/root/.cache/fontconfig: not cleaning non-existent cache directory\n",
            "/root/.fontconfig: not cleaning non-existent cache directory\n",
            "fc-cache: succeeded\n"
          ]
        }
      ]
    },
    {
      "cell_type": "code",
      "source": [
        "\n",
        "plt.rc('font', family='NanumBarunGothic') "
      ],
      "metadata": {
        "id": "TqvLzKNMoa1J"
      },
      "execution_count": 5,
      "outputs": []
    },
    {
      "cell_type": "markdown",
      "source": [
        "# Part1. 전처리👀"
      ],
      "metadata": {
        "id": "B3EcZX5IlNQ3"
      }
    },
    {
      "cell_type": "code",
      "source": [
        "#원본데이터 df로 복제\n",
        "df = data.copy()\n",
        "print(df.shape)"
      ],
      "metadata": {
        "colab": {
          "base_uri": "https://localhost:8080/"
        },
        "id": "q8ZswZfvoll8",
        "outputId": "a4a894fb-a4f3-4aab-9a51-2c54a6e2d4c5"
      },
      "execution_count": 6,
      "outputs": [
        {
          "output_type": "stream",
          "name": "stdout",
          "text": [
            "(10000, 31)\n"
          ]
        }
      ]
    },
    {
      "cell_type": "code",
      "source": [
        "display(df.head()) \n",
        "print(df.info()) \n",
        "print(df.describe()) "
      ],
      "metadata": {
        "colab": {
          "base_uri": "https://localhost:8080/",
          "height": 1000
        },
        "id": "G6fqk3YIokx2",
        "outputId": "94f1870b-7015-4d9e-af7c-c4c625fd02d1"
      },
      "execution_count": 7,
      "outputs": [
        {
          "output_type": "display_data",
          "data": {
            "text/plain": [
              "   기준년도  가입자일련번호  시도코드 성별코드  연령대코드(5세단위)  신장(5Cm단위)  체중(5Kg 단위)  허리둘레  시력(좌)  \\\n",
              "0  2020        1    36    M            9        165          60  72.1    1.2   \n",
              "1  2020        2    27    F           13        150          65  81.0    0.8   \n",
              "2  2020        3    11    F           12        155          55  70.0    0.6   \n",
              "3  2020        4    31    M           13        160          70  90.8    1.0   \n",
              "4  2020        5    41    F           12        155          50  75.2    1.5   \n",
              "\n",
              "   시력(우)  ...  혈청크레아티닌  (혈청지오티)AST  (혈청지오티)ALT  감마지티피  흡연상태  음주여부  구강검진수검여부  \\\n",
              "0    1.5  ...      1.1        21.0        27.0   21.0    No    No         0   \n",
              "1    0.8  ...      0.5        18.0        15.0   15.0    No    No         0   \n",
              "2    0.7  ...      0.7        27.0        25.0    7.0    No    No         0   \n",
              "3    1.0  ...      1.2        65.0        97.0   72.0    No    No         1   \n",
              "4    1.2  ...      0.7        18.0        17.0   14.0    No    No         0   \n",
              "\n",
              "   치아우식증유무   치석     데이터공개일자  \n",
              "0      NaN  NaN  12/29/2021  \n",
              "1      NaN  NaN  12/29/2021  \n",
              "2      NaN  NaN  12/29/2021  \n",
              "3      0.0  0.0  12/29/2021  \n",
              "4      NaN  NaN  12/29/2021  \n",
              "\n",
              "[5 rows x 31 columns]"
            ],
            "text/html": [
              "\n",
              "  <div id=\"df-f7a4ea1b-1a03-49ce-b924-967d03dcd67e\">\n",
              "    <div class=\"colab-df-container\">\n",
              "      <div>\n",
              "<style scoped>\n",
              "    .dataframe tbody tr th:only-of-type {\n",
              "        vertical-align: middle;\n",
              "    }\n",
              "\n",
              "    .dataframe tbody tr th {\n",
              "        vertical-align: top;\n",
              "    }\n",
              "\n",
              "    .dataframe thead th {\n",
              "        text-align: right;\n",
              "    }\n",
              "</style>\n",
              "<table border=\"1\" class=\"dataframe\">\n",
              "  <thead>\n",
              "    <tr style=\"text-align: right;\">\n",
              "      <th></th>\n",
              "      <th>기준년도</th>\n",
              "      <th>가입자일련번호</th>\n",
              "      <th>시도코드</th>\n",
              "      <th>성별코드</th>\n",
              "      <th>연령대코드(5세단위)</th>\n",
              "      <th>신장(5Cm단위)</th>\n",
              "      <th>체중(5Kg 단위)</th>\n",
              "      <th>허리둘레</th>\n",
              "      <th>시력(좌)</th>\n",
              "      <th>시력(우)</th>\n",
              "      <th>...</th>\n",
              "      <th>혈청크레아티닌</th>\n",
              "      <th>(혈청지오티)AST</th>\n",
              "      <th>(혈청지오티)ALT</th>\n",
              "      <th>감마지티피</th>\n",
              "      <th>흡연상태</th>\n",
              "      <th>음주여부</th>\n",
              "      <th>구강검진수검여부</th>\n",
              "      <th>치아우식증유무</th>\n",
              "      <th>치석</th>\n",
              "      <th>데이터공개일자</th>\n",
              "    </tr>\n",
              "  </thead>\n",
              "  <tbody>\n",
              "    <tr>\n",
              "      <th>0</th>\n",
              "      <td>2020</td>\n",
              "      <td>1</td>\n",
              "      <td>36</td>\n",
              "      <td>M</td>\n",
              "      <td>9</td>\n",
              "      <td>165</td>\n",
              "      <td>60</td>\n",
              "      <td>72.1</td>\n",
              "      <td>1.2</td>\n",
              "      <td>1.5</td>\n",
              "      <td>...</td>\n",
              "      <td>1.1</td>\n",
              "      <td>21.0</td>\n",
              "      <td>27.0</td>\n",
              "      <td>21.0</td>\n",
              "      <td>No</td>\n",
              "      <td>No</td>\n",
              "      <td>0</td>\n",
              "      <td>NaN</td>\n",
              "      <td>NaN</td>\n",
              "      <td>12/29/2021</td>\n",
              "    </tr>\n",
              "    <tr>\n",
              "      <th>1</th>\n",
              "      <td>2020</td>\n",
              "      <td>2</td>\n",
              "      <td>27</td>\n",
              "      <td>F</td>\n",
              "      <td>13</td>\n",
              "      <td>150</td>\n",
              "      <td>65</td>\n",
              "      <td>81.0</td>\n",
              "      <td>0.8</td>\n",
              "      <td>0.8</td>\n",
              "      <td>...</td>\n",
              "      <td>0.5</td>\n",
              "      <td>18.0</td>\n",
              "      <td>15.0</td>\n",
              "      <td>15.0</td>\n",
              "      <td>No</td>\n",
              "      <td>No</td>\n",
              "      <td>0</td>\n",
              "      <td>NaN</td>\n",
              "      <td>NaN</td>\n",
              "      <td>12/29/2021</td>\n",
              "    </tr>\n",
              "    <tr>\n",
              "      <th>2</th>\n",
              "      <td>2020</td>\n",
              "      <td>3</td>\n",
              "      <td>11</td>\n",
              "      <td>F</td>\n",
              "      <td>12</td>\n",
              "      <td>155</td>\n",
              "      <td>55</td>\n",
              "      <td>70.0</td>\n",
              "      <td>0.6</td>\n",
              "      <td>0.7</td>\n",
              "      <td>...</td>\n",
              "      <td>0.7</td>\n",
              "      <td>27.0</td>\n",
              "      <td>25.0</td>\n",
              "      <td>7.0</td>\n",
              "      <td>No</td>\n",
              "      <td>No</td>\n",
              "      <td>0</td>\n",
              "      <td>NaN</td>\n",
              "      <td>NaN</td>\n",
              "      <td>12/29/2021</td>\n",
              "    </tr>\n",
              "    <tr>\n",
              "      <th>3</th>\n",
              "      <td>2020</td>\n",
              "      <td>4</td>\n",
              "      <td>31</td>\n",
              "      <td>M</td>\n",
              "      <td>13</td>\n",
              "      <td>160</td>\n",
              "      <td>70</td>\n",
              "      <td>90.8</td>\n",
              "      <td>1.0</td>\n",
              "      <td>1.0</td>\n",
              "      <td>...</td>\n",
              "      <td>1.2</td>\n",
              "      <td>65.0</td>\n",
              "      <td>97.0</td>\n",
              "      <td>72.0</td>\n",
              "      <td>No</td>\n",
              "      <td>No</td>\n",
              "      <td>1</td>\n",
              "      <td>0.0</td>\n",
              "      <td>0.0</td>\n",
              "      <td>12/29/2021</td>\n",
              "    </tr>\n",
              "    <tr>\n",
              "      <th>4</th>\n",
              "      <td>2020</td>\n",
              "      <td>5</td>\n",
              "      <td>41</td>\n",
              "      <td>F</td>\n",
              "      <td>12</td>\n",
              "      <td>155</td>\n",
              "      <td>50</td>\n",
              "      <td>75.2</td>\n",
              "      <td>1.5</td>\n",
              "      <td>1.2</td>\n",
              "      <td>...</td>\n",
              "      <td>0.7</td>\n",
              "      <td>18.0</td>\n",
              "      <td>17.0</td>\n",
              "      <td>14.0</td>\n",
              "      <td>No</td>\n",
              "      <td>No</td>\n",
              "      <td>0</td>\n",
              "      <td>NaN</td>\n",
              "      <td>NaN</td>\n",
              "      <td>12/29/2021</td>\n",
              "    </tr>\n",
              "  </tbody>\n",
              "</table>\n",
              "<p>5 rows × 31 columns</p>\n",
              "</div>\n",
              "      <button class=\"colab-df-convert\" onclick=\"convertToInteractive('df-f7a4ea1b-1a03-49ce-b924-967d03dcd67e')\"\n",
              "              title=\"Convert this dataframe to an interactive table.\"\n",
              "              style=\"display:none;\">\n",
              "        \n",
              "  <svg xmlns=\"http://www.w3.org/2000/svg\" height=\"24px\"viewBox=\"0 0 24 24\"\n",
              "       width=\"24px\">\n",
              "    <path d=\"M0 0h24v24H0V0z\" fill=\"none\"/>\n",
              "    <path d=\"M18.56 5.44l.94 2.06.94-2.06 2.06-.94-2.06-.94-.94-2.06-.94 2.06-2.06.94zm-11 1L8.5 8.5l.94-2.06 2.06-.94-2.06-.94L8.5 2.5l-.94 2.06-2.06.94zm10 10l.94 2.06.94-2.06 2.06-.94-2.06-.94-.94-2.06-.94 2.06-2.06.94z\"/><path d=\"M17.41 7.96l-1.37-1.37c-.4-.4-.92-.59-1.43-.59-.52 0-1.04.2-1.43.59L10.3 9.45l-7.72 7.72c-.78.78-.78 2.05 0 2.83L4 21.41c.39.39.9.59 1.41.59.51 0 1.02-.2 1.41-.59l7.78-7.78 2.81-2.81c.8-.78.8-2.07 0-2.86zM5.41 20L4 18.59l7.72-7.72 1.47 1.35L5.41 20z\"/>\n",
              "  </svg>\n",
              "      </button>\n",
              "      \n",
              "  <style>\n",
              "    .colab-df-container {\n",
              "      display:flex;\n",
              "      flex-wrap:wrap;\n",
              "      gap: 12px;\n",
              "    }\n",
              "\n",
              "    .colab-df-convert {\n",
              "      background-color: #E8F0FE;\n",
              "      border: none;\n",
              "      border-radius: 50%;\n",
              "      cursor: pointer;\n",
              "      display: none;\n",
              "      fill: #1967D2;\n",
              "      height: 32px;\n",
              "      padding: 0 0 0 0;\n",
              "      width: 32px;\n",
              "    }\n",
              "\n",
              "    .colab-df-convert:hover {\n",
              "      background-color: #E2EBFA;\n",
              "      box-shadow: 0px 1px 2px rgba(60, 64, 67, 0.3), 0px 1px 3px 1px rgba(60, 64, 67, 0.15);\n",
              "      fill: #174EA6;\n",
              "    }\n",
              "\n",
              "    [theme=dark] .colab-df-convert {\n",
              "      background-color: #3B4455;\n",
              "      fill: #D2E3FC;\n",
              "    }\n",
              "\n",
              "    [theme=dark] .colab-df-convert:hover {\n",
              "      background-color: #434B5C;\n",
              "      box-shadow: 0px 1px 3px 1px rgba(0, 0, 0, 0.15);\n",
              "      filter: drop-shadow(0px 1px 2px rgba(0, 0, 0, 0.3));\n",
              "      fill: #FFFFFF;\n",
              "    }\n",
              "  </style>\n",
              "\n",
              "      <script>\n",
              "        const buttonEl =\n",
              "          document.querySelector('#df-f7a4ea1b-1a03-49ce-b924-967d03dcd67e button.colab-df-convert');\n",
              "        buttonEl.style.display =\n",
              "          google.colab.kernel.accessAllowed ? 'block' : 'none';\n",
              "\n",
              "        async function convertToInteractive(key) {\n",
              "          const element = document.querySelector('#df-f7a4ea1b-1a03-49ce-b924-967d03dcd67e');\n",
              "          const dataTable =\n",
              "            await google.colab.kernel.invokeFunction('convertToInteractive',\n",
              "                                                     [key], {});\n",
              "          if (!dataTable) return;\n",
              "\n",
              "          const docLinkHtml = 'Like what you see? Visit the ' +\n",
              "            '<a target=\"_blank\" href=https://colab.research.google.com/notebooks/data_table.ipynb>data table notebook</a>'\n",
              "            + ' to learn more about interactive tables.';\n",
              "          element.innerHTML = '';\n",
              "          dataTable['output_type'] = 'display_data';\n",
              "          await google.colab.output.renderOutput(dataTable, element);\n",
              "          const docLink = document.createElement('div');\n",
              "          docLink.innerHTML = docLinkHtml;\n",
              "          element.appendChild(docLink);\n",
              "        }\n",
              "      </script>\n",
              "    </div>\n",
              "  </div>\n",
              "  "
            ]
          },
          "metadata": {}
        },
        {
          "output_type": "stream",
          "name": "stdout",
          "text": [
            "<class 'pandas.core.frame.DataFrame'>\n",
            "RangeIndex: 10000 entries, 0 to 9999\n",
            "Data columns (total 31 columns):\n",
            " #   Column       Non-Null Count  Dtype  \n",
            "---  ------       --------------  -----  \n",
            " 0   기준년도         10000 non-null  int64  \n",
            " 1   가입자일련번호      10000 non-null  int64  \n",
            " 2   시도코드         10000 non-null  int64  \n",
            " 3   성별코드         10000 non-null  object \n",
            " 4   연령대코드(5세단위)  10000 non-null  int64  \n",
            " 5   신장(5Cm단위)    10000 non-null  int64  \n",
            " 6   체중(5Kg 단위)   10000 non-null  int64  \n",
            " 7   허리둘레         10000 non-null  float64\n",
            " 8   시력(좌)        10000 non-null  float64\n",
            " 9   시력(우)        10000 non-null  float64\n",
            " 10  청력(좌)        10000 non-null  int64  \n",
            " 11  청력(우)        10000 non-null  int64  \n",
            " 12  수축기혈압        9912 non-null   float64\n",
            " 13  이완기혈압        9912 non-null   float64\n",
            " 14  식전혈당(공복혈당)   9912 non-null   float64\n",
            " 15  총콜레스테롤       4044 non-null   float64\n",
            " 16  트리글리세라이드     4044 non-null   float64\n",
            " 17  HDL콜레스테롤     4044 non-null   float64\n",
            " 18  LDL콜레스테롤     3977 non-null   float64\n",
            " 19  혈색소          9912 non-null   float64\n",
            " 20  요단백          9861 non-null   float64\n",
            " 21  혈청크레아티닌      9912 non-null   float64\n",
            " 22  (혈청지오티)AST   9912 non-null   float64\n",
            " 23  (혈청지오티)ALT   9912 non-null   float64\n",
            " 24  감마지티피        9912 non-null   float64\n",
            " 25  흡연상태         9998 non-null   object \n",
            " 26  음주여부         9999 non-null   object \n",
            " 27  구강검진수검여부     10000 non-null  int64  \n",
            " 28  치아우식증유무      3251 non-null   float64\n",
            " 29  치석           3251 non-null   float64\n",
            " 30  데이터공개일자      10000 non-null  object \n",
            "dtypes: float64(18), int64(9), object(4)\n",
            "memory usage: 2.4+ MB\n",
            "None\n",
            "          기준년도      가입자일련번호          시도코드   연령대코드(5세단위)     신장(5Cm단위)  \\\n",
            "count  10000.0  10000.00000  10000.000000  10000.000000  10000.000000   \n",
            "mean    2020.0   5000.50000     34.100100     11.931400    160.983500   \n",
            "std        0.0   2886.89568     12.394581      2.166048      9.211608   \n",
            "min     2020.0      1.00000     11.000000      9.000000    130.000000   \n",
            "25%     2020.0   2500.75000     27.000000     10.000000    155.000000   \n",
            "50%     2020.0   5000.50000     41.000000     12.000000    160.000000   \n",
            "75%     2020.0   7500.25000     44.000000     13.000000    170.000000   \n",
            "max     2020.0  10000.00000     49.000000     18.000000    195.000000   \n",
            "\n",
            "         체중(5Kg 단위)          허리둘레         시력(좌)         시력(우)         청력(좌)  \\\n",
            "count  10000.000000  10000.000000  10000.000000  10000.000000  10000.000000   \n",
            "mean      63.034500     82.366100      0.933750      0.936750      1.050500   \n",
            "std       12.205294      9.561973      0.662057      0.641378      0.227936   \n",
            "min       30.000000     53.000000      0.100000      0.100000      1.000000   \n",
            "25%       55.000000     76.000000      0.700000      0.700000      1.000000   \n",
            "50%       60.000000     82.000000      0.900000      0.900000      1.000000   \n",
            "75%       70.000000     88.900000      1.200000      1.200000      1.000000   \n",
            "max      130.000000    134.000000      9.900000      9.900000      3.000000   \n",
            "\n",
            "       ...     LDL콜레스테롤          혈색소          요단백      혈청크레아티닌  (혈청지오티)AST  \\\n",
            "count  ...  3977.000000  9912.000000  9861.000000  9912.000000  9912.00000   \n",
            "mean   ...   116.263264    14.214255     1.119461     0.848484    27.58979   \n",
            "std    ...    37.829955     1.555386     0.489782     0.301012    17.88442   \n",
            "min    ...    13.000000     5.100000     1.000000     0.050000     3.00000   \n",
            "25%    ...    89.000000    13.200000     1.000000     0.700000    20.00000   \n",
            "50%    ...   115.000000    14.200000     1.000000     0.800000    24.00000   \n",
            "75%    ...   141.000000    15.300000     1.000000     1.000000    30.00000   \n",
            "max    ...   297.000000    20.000000     6.000000     9.200000   692.00000   \n",
            "\n",
            "        (혈청지오티)ALT        감마지티피      구강검진수검여부      치아우식증유무           치석  \n",
            "count  9912.000000  9912.000000  10000.000000  3251.000000  3251.000000  \n",
            "mean     26.789851    38.098668      0.325100     0.175331     0.579514  \n",
            "std      23.735687    58.184579      0.468436     0.380308     0.591269  \n",
            "min       2.000000     3.000000      0.000000     0.000000     0.000000  \n",
            "25%      16.000000    16.000000      0.000000     0.000000     0.000000  \n",
            "50%      21.000000    24.000000      0.000000     0.000000     1.000000  \n",
            "75%      31.000000    39.000000      1.000000     0.000000     1.000000  \n",
            "max    1146.000000  2322.000000      1.000000     1.000000     2.000000  \n",
            "\n",
            "[8 rows x 27 columns]\n"
          ]
        }
      ]
    },
    {
      "cell_type": "code",
      "source": [
        "#describe 함수로 살펴보기\n",
        "df.describe().style.background_gradient(cmap = \"summer\")"
      ],
      "metadata": {
        "colab": {
          "base_uri": "https://localhost:8080/",
          "height": 338
        },
        "id": "iIfegS9BlJID",
        "outputId": "05eb1b0c-461e-42ec-c0c0-87c2fcba22f8"
      },
      "execution_count": 8,
      "outputs": [
        {
          "output_type": "execute_result",
          "data": {
            "text/plain": [
              "<pandas.io.formats.style.Styler at 0x7fc70f788090>"
            ],
            "text/html": [
              "<style type=\"text/css\">\n",
              "#T_0eec6_row0_col0, #T_0eec6_row0_col1, #T_0eec6_row0_col2, #T_0eec6_row0_col3, #T_0eec6_row0_col4, #T_0eec6_row0_col5, #T_0eec6_row0_col6, #T_0eec6_row0_col7, #T_0eec6_row0_col8, #T_0eec6_row0_col9, #T_0eec6_row0_col10, #T_0eec6_row0_col11, #T_0eec6_row0_col12, #T_0eec6_row0_col13, #T_0eec6_row0_col14, #T_0eec6_row0_col15, #T_0eec6_row0_col16, #T_0eec6_row0_col17, #T_0eec6_row0_col18, #T_0eec6_row0_col19, #T_0eec6_row0_col20, #T_0eec6_row0_col21, #T_0eec6_row0_col22, #T_0eec6_row0_col23, #T_0eec6_row0_col24, #T_0eec6_row0_col25, #T_0eec6_row0_col26, #T_0eec6_row7_col1 {\n",
              "  background-color: #ffff66;\n",
              "  color: #000000;\n",
              "}\n",
              "#T_0eec6_row1_col0, #T_0eec6_row3_col0, #T_0eec6_row4_col0, #T_0eec6_row5_col0, #T_0eec6_row6_col0, #T_0eec6_row7_col0 {\n",
              "  background-color: #339966;\n",
              "  color: #f1f1f1;\n",
              "}\n",
              "#T_0eec6_row1_col1, #T_0eec6_row5_col1 {\n",
              "  background-color: #80c066;\n",
              "  color: #000000;\n",
              "}\n",
              "#T_0eec6_row1_col2, #T_0eec6_row1_col3, #T_0eec6_row1_col7, #T_0eec6_row1_col8, #T_0eec6_row1_col9, #T_0eec6_row1_col10, #T_0eec6_row1_col18, #T_0eec6_row1_col19, #T_0eec6_row1_col20, #T_0eec6_row1_col21, #T_0eec6_row1_col22, #T_0eec6_row1_col23, #T_0eec6_row1_col24, #T_0eec6_row1_col25, #T_0eec6_row1_col26, #T_0eec6_row2_col0, #T_0eec6_row2_col2, #T_0eec6_row2_col3, #T_0eec6_row2_col4, #T_0eec6_row2_col5, #T_0eec6_row2_col6, #T_0eec6_row2_col7, #T_0eec6_row2_col8, #T_0eec6_row2_col9, #T_0eec6_row2_col10, #T_0eec6_row2_col11, #T_0eec6_row2_col12, #T_0eec6_row2_col13, #T_0eec6_row2_col14, #T_0eec6_row2_col16, #T_0eec6_row2_col18, #T_0eec6_row2_col19, #T_0eec6_row2_col20, #T_0eec6_row2_col21, #T_0eec6_row2_col22, #T_0eec6_row2_col24, #T_0eec6_row2_col25, #T_0eec6_row2_col26, #T_0eec6_row3_col1, #T_0eec6_row3_col2, #T_0eec6_row3_col3, #T_0eec6_row3_col5, #T_0eec6_row3_col7, #T_0eec6_row3_col8, #T_0eec6_row3_col9, #T_0eec6_row3_col10, #T_0eec6_row3_col12, #T_0eec6_row3_col13, #T_0eec6_row3_col15, #T_0eec6_row3_col16, #T_0eec6_row3_col17, #T_0eec6_row3_col18, #T_0eec6_row3_col19, #T_0eec6_row3_col20, #T_0eec6_row3_col21, #T_0eec6_row3_col22, #T_0eec6_row3_col23, #T_0eec6_row3_col24, #T_0eec6_row3_col25, #T_0eec6_row3_col26, #T_0eec6_row4_col2, #T_0eec6_row4_col3, #T_0eec6_row4_col7, #T_0eec6_row4_col8, #T_0eec6_row4_col9, #T_0eec6_row4_col10, #T_0eec6_row4_col18, #T_0eec6_row4_col19, #T_0eec6_row4_col20, #T_0eec6_row4_col21, #T_0eec6_row4_col22, #T_0eec6_row4_col23, #T_0eec6_row4_col24, #T_0eec6_row4_col25, #T_0eec6_row4_col26, #T_0eec6_row5_col2, #T_0eec6_row5_col3, #T_0eec6_row5_col7, #T_0eec6_row5_col8, #T_0eec6_row5_col9, #T_0eec6_row5_col10, #T_0eec6_row5_col18, #T_0eec6_row5_col19, #T_0eec6_row5_col20, #T_0eec6_row5_col21, #T_0eec6_row5_col22, #T_0eec6_row5_col23, #T_0eec6_row5_col24, #T_0eec6_row5_col25, #T_0eec6_row5_col26, #T_0eec6_row6_col2, #T_0eec6_row6_col3, #T_0eec6_row6_col7, #T_0eec6_row6_col8, #T_0eec6_row6_col9, #T_0eec6_row6_col10, #T_0eec6_row6_col18, #T_0eec6_row6_col19, #T_0eec6_row6_col20, #T_0eec6_row6_col21, #T_0eec6_row6_col22, #T_0eec6_row6_col23, #T_0eec6_row6_col24, #T_0eec6_row6_col25, #T_0eec6_row6_col26, #T_0eec6_row7_col2, #T_0eec6_row7_col3, #T_0eec6_row7_col7, #T_0eec6_row7_col8, #T_0eec6_row7_col9, #T_0eec6_row7_col10, #T_0eec6_row7_col18, #T_0eec6_row7_col19, #T_0eec6_row7_col20, #T_0eec6_row7_col24, #T_0eec6_row7_col25, #T_0eec6_row7_col26 {\n",
              "  background-color: #008066;\n",
              "  color: #f1f1f1;\n",
              "}\n",
              "#T_0eec6_row1_col4, #T_0eec6_row3_col4, #T_0eec6_row4_col4, #T_0eec6_row5_col4, #T_0eec6_row6_col11, #T_0eec6_row6_col16, #T_0eec6_row7_col5, #T_0eec6_row7_col6, #T_0eec6_row7_col12 {\n",
              "  background-color: #038166;\n",
              "  color: #f1f1f1;\n",
              "}\n",
              "#T_0eec6_row1_col5, #T_0eec6_row1_col6, #T_0eec6_row1_col12, #T_0eec6_row2_col17, #T_0eec6_row2_col23, #T_0eec6_row3_col6, #T_0eec6_row3_col11, #T_0eec6_row3_col14, #T_0eec6_row4_col5, #T_0eec6_row4_col6, #T_0eec6_row4_col12, #T_0eec6_row4_col13, #T_0eec6_row5_col5, #T_0eec6_row5_col6, #T_0eec6_row5_col12, #T_0eec6_row5_col13, #T_0eec6_row6_col5, #T_0eec6_row6_col12 {\n",
              "  background-color: #018066;\n",
              "  color: #f1f1f1;\n",
              "}\n",
              "#T_0eec6_row1_col11, #T_0eec6_row1_col13, #T_0eec6_row1_col16, #T_0eec6_row4_col11, #T_0eec6_row4_col16, #T_0eec6_row5_col11, #T_0eec6_row5_col16, #T_0eec6_row6_col6, #T_0eec6_row6_col13 {\n",
              "  background-color: #028066;\n",
              "  color: #f1f1f1;\n",
              "}\n",
              "#T_0eec6_row1_col14, #T_0eec6_row5_col14, #T_0eec6_row6_col15 {\n",
              "  background-color: #098466;\n",
              "  color: #f1f1f1;\n",
              "}\n",
              "#T_0eec6_row1_col15, #T_0eec6_row7_col16 {\n",
              "  background-color: #078366;\n",
              "  color: #f1f1f1;\n",
              "}\n",
              "#T_0eec6_row1_col17, #T_0eec6_row5_col15, #T_0eec6_row5_col17 {\n",
              "  background-color: #068266;\n",
              "  color: #f1f1f1;\n",
              "}\n",
              "#T_0eec6_row2_col1 {\n",
              "  background-color: #49a466;\n",
              "  color: #f1f1f1;\n",
              "}\n",
              "#T_0eec6_row2_col15 {\n",
              "  background-color: #058266;\n",
              "  color: #f1f1f1;\n",
              "}\n",
              "#T_0eec6_row4_col1 {\n",
              "  background-color: #40a066;\n",
              "  color: #f1f1f1;\n",
              "}\n",
              "#T_0eec6_row4_col14, #T_0eec6_row6_col17 {\n",
              "  background-color: #088466;\n",
              "  color: #f1f1f1;\n",
              "}\n",
              "#T_0eec6_row4_col15, #T_0eec6_row4_col17, #T_0eec6_row6_col4, #T_0eec6_row7_col4, #T_0eec6_row7_col11 {\n",
              "  background-color: #048266;\n",
              "  color: #f1f1f1;\n",
              "}\n",
              "#T_0eec6_row6_col1 {\n",
              "  background-color: #c0e066;\n",
              "  color: #000000;\n",
              "}\n",
              "#T_0eec6_row6_col14, #T_0eec6_row7_col13 {\n",
              "  background-color: #0b8566;\n",
              "  color: #f1f1f1;\n",
              "}\n",
              "#T_0eec6_row7_col14 {\n",
              "  background-color: #168a66;\n",
              "  color: #f1f1f1;\n",
              "}\n",
              "#T_0eec6_row7_col15 {\n",
              "  background-color: #6bb566;\n",
              "  color: #f1f1f1;\n",
              "}\n",
              "#T_0eec6_row7_col17 {\n",
              "  background-color: #128866;\n",
              "  color: #f1f1f1;\n",
              "}\n",
              "#T_0eec6_row7_col21 {\n",
              "  background-color: #118866;\n",
              "  color: #f1f1f1;\n",
              "}\n",
              "#T_0eec6_row7_col22 {\n",
              "  background-color: #1d8e66;\n",
              "  color: #f1f1f1;\n",
              "}\n",
              "#T_0eec6_row7_col23 {\n",
              "  background-color: #3b9d66;\n",
              "  color: #f1f1f1;\n",
              "}\n",
              "</style>\n",
              "<table id=\"T_0eec6_\" class=\"dataframe\">\n",
              "  <thead>\n",
              "    <tr>\n",
              "      <th class=\"blank level0\" >&nbsp;</th>\n",
              "      <th class=\"col_heading level0 col0\" >기준년도</th>\n",
              "      <th class=\"col_heading level0 col1\" >가입자일련번호</th>\n",
              "      <th class=\"col_heading level0 col2\" >시도코드</th>\n",
              "      <th class=\"col_heading level0 col3\" >연령대코드(5세단위)</th>\n",
              "      <th class=\"col_heading level0 col4\" >신장(5Cm단위)</th>\n",
              "      <th class=\"col_heading level0 col5\" >체중(5Kg 단위)</th>\n",
              "      <th class=\"col_heading level0 col6\" >허리둘레</th>\n",
              "      <th class=\"col_heading level0 col7\" >시력(좌)</th>\n",
              "      <th class=\"col_heading level0 col8\" >시력(우)</th>\n",
              "      <th class=\"col_heading level0 col9\" >청력(좌)</th>\n",
              "      <th class=\"col_heading level0 col10\" >청력(우)</th>\n",
              "      <th class=\"col_heading level0 col11\" >수축기혈압</th>\n",
              "      <th class=\"col_heading level0 col12\" >이완기혈압</th>\n",
              "      <th class=\"col_heading level0 col13\" >식전혈당(공복혈당)</th>\n",
              "      <th class=\"col_heading level0 col14\" >총콜레스테롤</th>\n",
              "      <th class=\"col_heading level0 col15\" >트리글리세라이드</th>\n",
              "      <th class=\"col_heading level0 col16\" >HDL콜레스테롤</th>\n",
              "      <th class=\"col_heading level0 col17\" >LDL콜레스테롤</th>\n",
              "      <th class=\"col_heading level0 col18\" >혈색소</th>\n",
              "      <th class=\"col_heading level0 col19\" >요단백</th>\n",
              "      <th class=\"col_heading level0 col20\" >혈청크레아티닌</th>\n",
              "      <th class=\"col_heading level0 col21\" >(혈청지오티)AST</th>\n",
              "      <th class=\"col_heading level0 col22\" >(혈청지오티)ALT</th>\n",
              "      <th class=\"col_heading level0 col23\" >감마지티피</th>\n",
              "      <th class=\"col_heading level0 col24\" >구강검진수검여부</th>\n",
              "      <th class=\"col_heading level0 col25\" >치아우식증유무</th>\n",
              "      <th class=\"col_heading level0 col26\" >치석</th>\n",
              "    </tr>\n",
              "  </thead>\n",
              "  <tbody>\n",
              "    <tr>\n",
              "      <th id=\"T_0eec6_level0_row0\" class=\"row_heading level0 row0\" >count</th>\n",
              "      <td id=\"T_0eec6_row0_col0\" class=\"data row0 col0\" >10000.000000</td>\n",
              "      <td id=\"T_0eec6_row0_col1\" class=\"data row0 col1\" >10000.000000</td>\n",
              "      <td id=\"T_0eec6_row0_col2\" class=\"data row0 col2\" >10000.000000</td>\n",
              "      <td id=\"T_0eec6_row0_col3\" class=\"data row0 col3\" >10000.000000</td>\n",
              "      <td id=\"T_0eec6_row0_col4\" class=\"data row0 col4\" >10000.000000</td>\n",
              "      <td id=\"T_0eec6_row0_col5\" class=\"data row0 col5\" >10000.000000</td>\n",
              "      <td id=\"T_0eec6_row0_col6\" class=\"data row0 col6\" >10000.000000</td>\n",
              "      <td id=\"T_0eec6_row0_col7\" class=\"data row0 col7\" >10000.000000</td>\n",
              "      <td id=\"T_0eec6_row0_col8\" class=\"data row0 col8\" >10000.000000</td>\n",
              "      <td id=\"T_0eec6_row0_col9\" class=\"data row0 col9\" >10000.000000</td>\n",
              "      <td id=\"T_0eec6_row0_col10\" class=\"data row0 col10\" >10000.000000</td>\n",
              "      <td id=\"T_0eec6_row0_col11\" class=\"data row0 col11\" >9912.000000</td>\n",
              "      <td id=\"T_0eec6_row0_col12\" class=\"data row0 col12\" >9912.000000</td>\n",
              "      <td id=\"T_0eec6_row0_col13\" class=\"data row0 col13\" >9912.000000</td>\n",
              "      <td id=\"T_0eec6_row0_col14\" class=\"data row0 col14\" >4044.000000</td>\n",
              "      <td id=\"T_0eec6_row0_col15\" class=\"data row0 col15\" >4044.000000</td>\n",
              "      <td id=\"T_0eec6_row0_col16\" class=\"data row0 col16\" >4044.000000</td>\n",
              "      <td id=\"T_0eec6_row0_col17\" class=\"data row0 col17\" >3977.000000</td>\n",
              "      <td id=\"T_0eec6_row0_col18\" class=\"data row0 col18\" >9912.000000</td>\n",
              "      <td id=\"T_0eec6_row0_col19\" class=\"data row0 col19\" >9861.000000</td>\n",
              "      <td id=\"T_0eec6_row0_col20\" class=\"data row0 col20\" >9912.000000</td>\n",
              "      <td id=\"T_0eec6_row0_col21\" class=\"data row0 col21\" >9912.000000</td>\n",
              "      <td id=\"T_0eec6_row0_col22\" class=\"data row0 col22\" >9912.000000</td>\n",
              "      <td id=\"T_0eec6_row0_col23\" class=\"data row0 col23\" >9912.000000</td>\n",
              "      <td id=\"T_0eec6_row0_col24\" class=\"data row0 col24\" >10000.000000</td>\n",
              "      <td id=\"T_0eec6_row0_col25\" class=\"data row0 col25\" >3251.000000</td>\n",
              "      <td id=\"T_0eec6_row0_col26\" class=\"data row0 col26\" >3251.000000</td>\n",
              "    </tr>\n",
              "    <tr>\n",
              "      <th id=\"T_0eec6_level0_row1\" class=\"row_heading level0 row1\" >mean</th>\n",
              "      <td id=\"T_0eec6_row1_col0\" class=\"data row1 col0\" >2020.000000</td>\n",
              "      <td id=\"T_0eec6_row1_col1\" class=\"data row1 col1\" >5000.500000</td>\n",
              "      <td id=\"T_0eec6_row1_col2\" class=\"data row1 col2\" >34.100100</td>\n",
              "      <td id=\"T_0eec6_row1_col3\" class=\"data row1 col3\" >11.931400</td>\n",
              "      <td id=\"T_0eec6_row1_col4\" class=\"data row1 col4\" >160.983500</td>\n",
              "      <td id=\"T_0eec6_row1_col5\" class=\"data row1 col5\" >63.034500</td>\n",
              "      <td id=\"T_0eec6_row1_col6\" class=\"data row1 col6\" >82.366100</td>\n",
              "      <td id=\"T_0eec6_row1_col7\" class=\"data row1 col7\" >0.933750</td>\n",
              "      <td id=\"T_0eec6_row1_col8\" class=\"data row1 col8\" >0.936750</td>\n",
              "      <td id=\"T_0eec6_row1_col9\" class=\"data row1 col9\" >1.050500</td>\n",
              "      <td id=\"T_0eec6_row1_col10\" class=\"data row1 col10\" >1.045200</td>\n",
              "      <td id=\"T_0eec6_row1_col11\" class=\"data row1 col11\" >124.669693</td>\n",
              "      <td id=\"T_0eec6_row1_col12\" class=\"data row1 col12\" >76.789750</td>\n",
              "      <td id=\"T_0eec6_row1_col13\" class=\"data row1 col13\" >103.777542</td>\n",
              "      <td id=\"T_0eec6_row1_col14\" class=\"data row1 col14\" >198.269041</td>\n",
              "      <td id=\"T_0eec6_row1_col15\" class=\"data row1 col15\" >132.801434</td>\n",
              "      <td id=\"T_0eec6_row1_col16\" class=\"data row1 col16\" >56.158309</td>\n",
              "      <td id=\"T_0eec6_row1_col17\" class=\"data row1 col17\" >116.263264</td>\n",
              "      <td id=\"T_0eec6_row1_col18\" class=\"data row1 col18\" >14.214255</td>\n",
              "      <td id=\"T_0eec6_row1_col19\" class=\"data row1 col19\" >1.119461</td>\n",
              "      <td id=\"T_0eec6_row1_col20\" class=\"data row1 col20\" >0.848484</td>\n",
              "      <td id=\"T_0eec6_row1_col21\" class=\"data row1 col21\" >27.589790</td>\n",
              "      <td id=\"T_0eec6_row1_col22\" class=\"data row1 col22\" >26.789851</td>\n",
              "      <td id=\"T_0eec6_row1_col23\" class=\"data row1 col23\" >38.098668</td>\n",
              "      <td id=\"T_0eec6_row1_col24\" class=\"data row1 col24\" >0.325100</td>\n",
              "      <td id=\"T_0eec6_row1_col25\" class=\"data row1 col25\" >0.175331</td>\n",
              "      <td id=\"T_0eec6_row1_col26\" class=\"data row1 col26\" >0.579514</td>\n",
              "    </tr>\n",
              "    <tr>\n",
              "      <th id=\"T_0eec6_level0_row2\" class=\"row_heading level0 row2\" >std</th>\n",
              "      <td id=\"T_0eec6_row2_col0\" class=\"data row2 col0\" >0.000000</td>\n",
              "      <td id=\"T_0eec6_row2_col1\" class=\"data row2 col1\" >2886.895680</td>\n",
              "      <td id=\"T_0eec6_row2_col2\" class=\"data row2 col2\" >12.394581</td>\n",
              "      <td id=\"T_0eec6_row2_col3\" class=\"data row2 col3\" >2.166048</td>\n",
              "      <td id=\"T_0eec6_row2_col4\" class=\"data row2 col4\" >9.211608</td>\n",
              "      <td id=\"T_0eec6_row2_col5\" class=\"data row2 col5\" >12.205294</td>\n",
              "      <td id=\"T_0eec6_row2_col6\" class=\"data row2 col6\" >9.561973</td>\n",
              "      <td id=\"T_0eec6_row2_col7\" class=\"data row2 col7\" >0.662057</td>\n",
              "      <td id=\"T_0eec6_row2_col8\" class=\"data row2 col8\" >0.641378</td>\n",
              "      <td id=\"T_0eec6_row2_col9\" class=\"data row2 col9\" >0.227936</td>\n",
              "      <td id=\"T_0eec6_row2_col10\" class=\"data row2 col10\" >0.218545</td>\n",
              "      <td id=\"T_0eec6_row2_col11\" class=\"data row2 col11\" >14.629865</td>\n",
              "      <td id=\"T_0eec6_row2_col12\" class=\"data row2 col12\" >9.931527</td>\n",
              "      <td id=\"T_0eec6_row2_col13\" class=\"data row2 col13\" >24.649816</td>\n",
              "      <td id=\"T_0eec6_row2_col14\" class=\"data row2 col14\" >41.945872</td>\n",
              "      <td id=\"T_0eec6_row2_col15\" class=\"data row2 col15\" >92.919969</td>\n",
              "      <td id=\"T_0eec6_row2_col16\" class=\"data row2 col16\" >14.484780</td>\n",
              "      <td id=\"T_0eec6_row2_col17\" class=\"data row2 col17\" >37.829955</td>\n",
              "      <td id=\"T_0eec6_row2_col18\" class=\"data row2 col18\" >1.555386</td>\n",
              "      <td id=\"T_0eec6_row2_col19\" class=\"data row2 col19\" >0.489782</td>\n",
              "      <td id=\"T_0eec6_row2_col20\" class=\"data row2 col20\" >0.301012</td>\n",
              "      <td id=\"T_0eec6_row2_col21\" class=\"data row2 col21\" >17.884420</td>\n",
              "      <td id=\"T_0eec6_row2_col22\" class=\"data row2 col22\" >23.735687</td>\n",
              "      <td id=\"T_0eec6_row2_col23\" class=\"data row2 col23\" >58.184579</td>\n",
              "      <td id=\"T_0eec6_row2_col24\" class=\"data row2 col24\" >0.468436</td>\n",
              "      <td id=\"T_0eec6_row2_col25\" class=\"data row2 col25\" >0.380308</td>\n",
              "      <td id=\"T_0eec6_row2_col26\" class=\"data row2 col26\" >0.591269</td>\n",
              "    </tr>\n",
              "    <tr>\n",
              "      <th id=\"T_0eec6_level0_row3\" class=\"row_heading level0 row3\" >min</th>\n",
              "      <td id=\"T_0eec6_row3_col0\" class=\"data row3 col0\" >2020.000000</td>\n",
              "      <td id=\"T_0eec6_row3_col1\" class=\"data row3 col1\" >1.000000</td>\n",
              "      <td id=\"T_0eec6_row3_col2\" class=\"data row3 col2\" >11.000000</td>\n",
              "      <td id=\"T_0eec6_row3_col3\" class=\"data row3 col3\" >9.000000</td>\n",
              "      <td id=\"T_0eec6_row3_col4\" class=\"data row3 col4\" >130.000000</td>\n",
              "      <td id=\"T_0eec6_row3_col5\" class=\"data row3 col5\" >30.000000</td>\n",
              "      <td id=\"T_0eec6_row3_col6\" class=\"data row3 col6\" >53.000000</td>\n",
              "      <td id=\"T_0eec6_row3_col7\" class=\"data row3 col7\" >0.100000</td>\n",
              "      <td id=\"T_0eec6_row3_col8\" class=\"data row3 col8\" >0.100000</td>\n",
              "      <td id=\"T_0eec6_row3_col9\" class=\"data row3 col9\" >1.000000</td>\n",
              "      <td id=\"T_0eec6_row3_col10\" class=\"data row3 col10\" >1.000000</td>\n",
              "      <td id=\"T_0eec6_row3_col11\" class=\"data row3 col11\" >77.000000</td>\n",
              "      <td id=\"T_0eec6_row3_col12\" class=\"data row3 col12\" >40.000000</td>\n",
              "      <td id=\"T_0eec6_row3_col13\" class=\"data row3 col13\" >55.000000</td>\n",
              "      <td id=\"T_0eec6_row3_col14\" class=\"data row3 col14\" >70.000000</td>\n",
              "      <td id=\"T_0eec6_row3_col15\" class=\"data row3 col15\" >14.000000</td>\n",
              "      <td id=\"T_0eec6_row3_col16\" class=\"data row3 col16\" >19.000000</td>\n",
              "      <td id=\"T_0eec6_row3_col17\" class=\"data row3 col17\" >13.000000</td>\n",
              "      <td id=\"T_0eec6_row3_col18\" class=\"data row3 col18\" >5.100000</td>\n",
              "      <td id=\"T_0eec6_row3_col19\" class=\"data row3 col19\" >1.000000</td>\n",
              "      <td id=\"T_0eec6_row3_col20\" class=\"data row3 col20\" >0.050000</td>\n",
              "      <td id=\"T_0eec6_row3_col21\" class=\"data row3 col21\" >3.000000</td>\n",
              "      <td id=\"T_0eec6_row3_col22\" class=\"data row3 col22\" >2.000000</td>\n",
              "      <td id=\"T_0eec6_row3_col23\" class=\"data row3 col23\" >3.000000</td>\n",
              "      <td id=\"T_0eec6_row3_col24\" class=\"data row3 col24\" >0.000000</td>\n",
              "      <td id=\"T_0eec6_row3_col25\" class=\"data row3 col25\" >0.000000</td>\n",
              "      <td id=\"T_0eec6_row3_col26\" class=\"data row3 col26\" >0.000000</td>\n",
              "    </tr>\n",
              "    <tr>\n",
              "      <th id=\"T_0eec6_level0_row4\" class=\"row_heading level0 row4\" >25%</th>\n",
              "      <td id=\"T_0eec6_row4_col0\" class=\"data row4 col0\" >2020.000000</td>\n",
              "      <td id=\"T_0eec6_row4_col1\" class=\"data row4 col1\" >2500.750000</td>\n",
              "      <td id=\"T_0eec6_row4_col2\" class=\"data row4 col2\" >27.000000</td>\n",
              "      <td id=\"T_0eec6_row4_col3\" class=\"data row4 col3\" >10.000000</td>\n",
              "      <td id=\"T_0eec6_row4_col4\" class=\"data row4 col4\" >155.000000</td>\n",
              "      <td id=\"T_0eec6_row4_col5\" class=\"data row4 col5\" >55.000000</td>\n",
              "      <td id=\"T_0eec6_row4_col6\" class=\"data row4 col6\" >76.000000</td>\n",
              "      <td id=\"T_0eec6_row4_col7\" class=\"data row4 col7\" >0.700000</td>\n",
              "      <td id=\"T_0eec6_row4_col8\" class=\"data row4 col8\" >0.700000</td>\n",
              "      <td id=\"T_0eec6_row4_col9\" class=\"data row4 col9\" >1.000000</td>\n",
              "      <td id=\"T_0eec6_row4_col10\" class=\"data row4 col10\" >1.000000</td>\n",
              "      <td id=\"T_0eec6_row4_col11\" class=\"data row4 col11\" >115.000000</td>\n",
              "      <td id=\"T_0eec6_row4_col12\" class=\"data row4 col12\" >70.000000</td>\n",
              "      <td id=\"T_0eec6_row4_col13\" class=\"data row4 col13\" >91.000000</td>\n",
              "      <td id=\"T_0eec6_row4_col14\" class=\"data row4 col14\" >169.000000</td>\n",
              "      <td id=\"T_0eec6_row4_col15\" class=\"data row4 col15\" >77.000000</td>\n",
              "      <td id=\"T_0eec6_row4_col16\" class=\"data row4 col16\" >46.000000</td>\n",
              "      <td id=\"T_0eec6_row4_col17\" class=\"data row4 col17\" >89.000000</td>\n",
              "      <td id=\"T_0eec6_row4_col18\" class=\"data row4 col18\" >13.200000</td>\n",
              "      <td id=\"T_0eec6_row4_col19\" class=\"data row4 col19\" >1.000000</td>\n",
              "      <td id=\"T_0eec6_row4_col20\" class=\"data row4 col20\" >0.700000</td>\n",
              "      <td id=\"T_0eec6_row4_col21\" class=\"data row4 col21\" >20.000000</td>\n",
              "      <td id=\"T_0eec6_row4_col22\" class=\"data row4 col22\" >16.000000</td>\n",
              "      <td id=\"T_0eec6_row4_col23\" class=\"data row4 col23\" >16.000000</td>\n",
              "      <td id=\"T_0eec6_row4_col24\" class=\"data row4 col24\" >0.000000</td>\n",
              "      <td id=\"T_0eec6_row4_col25\" class=\"data row4 col25\" >0.000000</td>\n",
              "      <td id=\"T_0eec6_row4_col26\" class=\"data row4 col26\" >0.000000</td>\n",
              "    </tr>\n",
              "    <tr>\n",
              "      <th id=\"T_0eec6_level0_row5\" class=\"row_heading level0 row5\" >50%</th>\n",
              "      <td id=\"T_0eec6_row5_col0\" class=\"data row5 col0\" >2020.000000</td>\n",
              "      <td id=\"T_0eec6_row5_col1\" class=\"data row5 col1\" >5000.500000</td>\n",
              "      <td id=\"T_0eec6_row5_col2\" class=\"data row5 col2\" >41.000000</td>\n",
              "      <td id=\"T_0eec6_row5_col3\" class=\"data row5 col3\" >12.000000</td>\n",
              "      <td id=\"T_0eec6_row5_col4\" class=\"data row5 col4\" >160.000000</td>\n",
              "      <td id=\"T_0eec6_row5_col5\" class=\"data row5 col5\" >60.000000</td>\n",
              "      <td id=\"T_0eec6_row5_col6\" class=\"data row5 col6\" >82.000000</td>\n",
              "      <td id=\"T_0eec6_row5_col7\" class=\"data row5 col7\" >0.900000</td>\n",
              "      <td id=\"T_0eec6_row5_col8\" class=\"data row5 col8\" >0.900000</td>\n",
              "      <td id=\"T_0eec6_row5_col9\" class=\"data row5 col9\" >1.000000</td>\n",
              "      <td id=\"T_0eec6_row5_col10\" class=\"data row5 col10\" >1.000000</td>\n",
              "      <td id=\"T_0eec6_row5_col11\" class=\"data row5 col11\" >124.000000</td>\n",
              "      <td id=\"T_0eec6_row5_col12\" class=\"data row5 col12\" >77.000000</td>\n",
              "      <td id=\"T_0eec6_row5_col13\" class=\"data row5 col13\" >99.000000</td>\n",
              "      <td id=\"T_0eec6_row5_col14\" class=\"data row5 col14\" >197.000000</td>\n",
              "      <td id=\"T_0eec6_row5_col15\" class=\"data row5 col15\" >111.000000</td>\n",
              "      <td id=\"T_0eec6_row5_col16\" class=\"data row5 col16\" >54.000000</td>\n",
              "      <td id=\"T_0eec6_row5_col17\" class=\"data row5 col17\" >115.000000</td>\n",
              "      <td id=\"T_0eec6_row5_col18\" class=\"data row5 col18\" >14.200000</td>\n",
              "      <td id=\"T_0eec6_row5_col19\" class=\"data row5 col19\" >1.000000</td>\n",
              "      <td id=\"T_0eec6_row5_col20\" class=\"data row5 col20\" >0.800000</td>\n",
              "      <td id=\"T_0eec6_row5_col21\" class=\"data row5 col21\" >24.000000</td>\n",
              "      <td id=\"T_0eec6_row5_col22\" class=\"data row5 col22\" >21.000000</td>\n",
              "      <td id=\"T_0eec6_row5_col23\" class=\"data row5 col23\" >24.000000</td>\n",
              "      <td id=\"T_0eec6_row5_col24\" class=\"data row5 col24\" >0.000000</td>\n",
              "      <td id=\"T_0eec6_row5_col25\" class=\"data row5 col25\" >0.000000</td>\n",
              "      <td id=\"T_0eec6_row5_col26\" class=\"data row5 col26\" >1.000000</td>\n",
              "    </tr>\n",
              "    <tr>\n",
              "      <th id=\"T_0eec6_level0_row6\" class=\"row_heading level0 row6\" >75%</th>\n",
              "      <td id=\"T_0eec6_row6_col0\" class=\"data row6 col0\" >2020.000000</td>\n",
              "      <td id=\"T_0eec6_row6_col1\" class=\"data row6 col1\" >7500.250000</td>\n",
              "      <td id=\"T_0eec6_row6_col2\" class=\"data row6 col2\" >44.000000</td>\n",
              "      <td id=\"T_0eec6_row6_col3\" class=\"data row6 col3\" >13.000000</td>\n",
              "      <td id=\"T_0eec6_row6_col4\" class=\"data row6 col4\" >170.000000</td>\n",
              "      <td id=\"T_0eec6_row6_col5\" class=\"data row6 col5\" >70.000000</td>\n",
              "      <td id=\"T_0eec6_row6_col6\" class=\"data row6 col6\" >88.900000</td>\n",
              "      <td id=\"T_0eec6_row6_col7\" class=\"data row6 col7\" >1.200000</td>\n",
              "      <td id=\"T_0eec6_row6_col8\" class=\"data row6 col8\" >1.200000</td>\n",
              "      <td id=\"T_0eec6_row6_col9\" class=\"data row6 col9\" >1.000000</td>\n",
              "      <td id=\"T_0eec6_row6_col10\" class=\"data row6 col10\" >1.000000</td>\n",
              "      <td id=\"T_0eec6_row6_col11\" class=\"data row6 col11\" >134.000000</td>\n",
              "      <td id=\"T_0eec6_row6_col12\" class=\"data row6 col12\" >83.000000</td>\n",
              "      <td id=\"T_0eec6_row6_col13\" class=\"data row6 col13\" >109.000000</td>\n",
              "      <td id=\"T_0eec6_row6_col14\" class=\"data row6 col14\" >225.000000</td>\n",
              "      <td id=\"T_0eec6_row6_col15\" class=\"data row6 col15\" >160.000000</td>\n",
              "      <td id=\"T_0eec6_row6_col16\" class=\"data row6 col16\" >65.000000</td>\n",
              "      <td id=\"T_0eec6_row6_col17\" class=\"data row6 col17\" >141.000000</td>\n",
              "      <td id=\"T_0eec6_row6_col18\" class=\"data row6 col18\" >15.300000</td>\n",
              "      <td id=\"T_0eec6_row6_col19\" class=\"data row6 col19\" >1.000000</td>\n",
              "      <td id=\"T_0eec6_row6_col20\" class=\"data row6 col20\" >1.000000</td>\n",
              "      <td id=\"T_0eec6_row6_col21\" class=\"data row6 col21\" >30.000000</td>\n",
              "      <td id=\"T_0eec6_row6_col22\" class=\"data row6 col22\" >31.000000</td>\n",
              "      <td id=\"T_0eec6_row6_col23\" class=\"data row6 col23\" >39.000000</td>\n",
              "      <td id=\"T_0eec6_row6_col24\" class=\"data row6 col24\" >1.000000</td>\n",
              "      <td id=\"T_0eec6_row6_col25\" class=\"data row6 col25\" >0.000000</td>\n",
              "      <td id=\"T_0eec6_row6_col26\" class=\"data row6 col26\" >1.000000</td>\n",
              "    </tr>\n",
              "    <tr>\n",
              "      <th id=\"T_0eec6_level0_row7\" class=\"row_heading level0 row7\" >max</th>\n",
              "      <td id=\"T_0eec6_row7_col0\" class=\"data row7 col0\" >2020.000000</td>\n",
              "      <td id=\"T_0eec6_row7_col1\" class=\"data row7 col1\" >10000.000000</td>\n",
              "      <td id=\"T_0eec6_row7_col2\" class=\"data row7 col2\" >49.000000</td>\n",
              "      <td id=\"T_0eec6_row7_col3\" class=\"data row7 col3\" >18.000000</td>\n",
              "      <td id=\"T_0eec6_row7_col4\" class=\"data row7 col4\" >195.000000</td>\n",
              "      <td id=\"T_0eec6_row7_col5\" class=\"data row7 col5\" >130.000000</td>\n",
              "      <td id=\"T_0eec6_row7_col6\" class=\"data row7 col6\" >134.000000</td>\n",
              "      <td id=\"T_0eec6_row7_col7\" class=\"data row7 col7\" >9.900000</td>\n",
              "      <td id=\"T_0eec6_row7_col8\" class=\"data row7 col8\" >9.900000</td>\n",
              "      <td id=\"T_0eec6_row7_col9\" class=\"data row7 col9\" >3.000000</td>\n",
              "      <td id=\"T_0eec6_row7_col10\" class=\"data row7 col10\" >3.000000</td>\n",
              "      <td id=\"T_0eec6_row7_col11\" class=\"data row7 col11\" >200.000000</td>\n",
              "      <td id=\"T_0eec6_row7_col12\" class=\"data row7 col12\" >130.000000</td>\n",
              "      <td id=\"T_0eec6_row7_col13\" class=\"data row7 col13\" >473.000000</td>\n",
              "      <td id=\"T_0eec6_row7_col14\" class=\"data row7 col14\" >387.000000</td>\n",
              "      <td id=\"T_0eec6_row7_col15\" class=\"data row7 col15\" >1701.000000</td>\n",
              "      <td id=\"T_0eec6_row7_col16\" class=\"data row7 col16\" >125.000000</td>\n",
              "      <td id=\"T_0eec6_row7_col17\" class=\"data row7 col17\" >297.000000</td>\n",
              "      <td id=\"T_0eec6_row7_col18\" class=\"data row7 col18\" >20.000000</td>\n",
              "      <td id=\"T_0eec6_row7_col19\" class=\"data row7 col19\" >6.000000</td>\n",
              "      <td id=\"T_0eec6_row7_col20\" class=\"data row7 col20\" >9.200000</td>\n",
              "      <td id=\"T_0eec6_row7_col21\" class=\"data row7 col21\" >692.000000</td>\n",
              "      <td id=\"T_0eec6_row7_col22\" class=\"data row7 col22\" >1146.000000</td>\n",
              "      <td id=\"T_0eec6_row7_col23\" class=\"data row7 col23\" >2322.000000</td>\n",
              "      <td id=\"T_0eec6_row7_col24\" class=\"data row7 col24\" >1.000000</td>\n",
              "      <td id=\"T_0eec6_row7_col25\" class=\"data row7 col25\" >1.000000</td>\n",
              "      <td id=\"T_0eec6_row7_col26\" class=\"data row7 col26\" >2.000000</td>\n",
              "    </tr>\n",
              "  </tbody>\n",
              "</table>\n"
            ]
          },
          "metadata": {},
          "execution_count": 8
        }
      ]
    },
    {
      "cell_type": "code",
      "source": [
        "#결측치 있는 데이터 알아보기\n",
        "df.info(verbose=True, show_counts=True)\n",
        "\n",
        "#결측치 있는 데이터\n",
        "#수축기혈압, 이완기혈압, 식전혈당(공복혈당),(혈청지오티)AST ,(혈청지오티)AST,(혈청지오티)ALT, 감마지티피: 9912개\n",
        "#총콜레스테롤, 트리슬리세라이드, HDLzhffptmxpfhf : 4044개 등등 "
      ],
      "metadata": {
        "colab": {
          "base_uri": "https://localhost:8080/"
        },
        "id": "4b7OHFvClJNg",
        "outputId": "15acd039-eabb-4448-87ab-d364a2a52daa"
      },
      "execution_count": 9,
      "outputs": [
        {
          "output_type": "stream",
          "name": "stdout",
          "text": [
            "<class 'pandas.core.frame.DataFrame'>\n",
            "RangeIndex: 10000 entries, 0 to 9999\n",
            "Data columns (total 31 columns):\n",
            " #   Column       Non-Null Count  Dtype  \n",
            "---  ------       --------------  -----  \n",
            " 0   기준년도         10000 non-null  int64  \n",
            " 1   가입자일련번호      10000 non-null  int64  \n",
            " 2   시도코드         10000 non-null  int64  \n",
            " 3   성별코드         10000 non-null  object \n",
            " 4   연령대코드(5세단위)  10000 non-null  int64  \n",
            " 5   신장(5Cm단위)    10000 non-null  int64  \n",
            " 6   체중(5Kg 단위)   10000 non-null  int64  \n",
            " 7   허리둘레         10000 non-null  float64\n",
            " 8   시력(좌)        10000 non-null  float64\n",
            " 9   시력(우)        10000 non-null  float64\n",
            " 10  청력(좌)        10000 non-null  int64  \n",
            " 11  청력(우)        10000 non-null  int64  \n",
            " 12  수축기혈압        9912 non-null   float64\n",
            " 13  이완기혈압        9912 non-null   float64\n",
            " 14  식전혈당(공복혈당)   9912 non-null   float64\n",
            " 15  총콜레스테롤       4044 non-null   float64\n",
            " 16  트리글리세라이드     4044 non-null   float64\n",
            " 17  HDL콜레스테롤     4044 non-null   float64\n",
            " 18  LDL콜레스테롤     3977 non-null   float64\n",
            " 19  혈색소          9912 non-null   float64\n",
            " 20  요단백          9861 non-null   float64\n",
            " 21  혈청크레아티닌      9912 non-null   float64\n",
            " 22  (혈청지오티)AST   9912 non-null   float64\n",
            " 23  (혈청지오티)ALT   9912 non-null   float64\n",
            " 24  감마지티피        9912 non-null   float64\n",
            " 25  흡연상태         9998 non-null   object \n",
            " 26  음주여부         9999 non-null   object \n",
            " 27  구강검진수검여부     10000 non-null  int64  \n",
            " 28  치아우식증유무      3251 non-null   float64\n",
            " 29  치석           3251 non-null   float64\n",
            " 30  데이터공개일자      10000 non-null  object \n",
            "dtypes: float64(18), int64(9), object(4)\n",
            "memory usage: 2.4+ MB\n"
          ]
        }
      ]
    },
    {
      "cell_type": "code",
      "source": [
        "#데이터를 다루기 용이하도록 컬럼명 변경\n",
        "\n",
        "# 신장(5Cm단위) -> 신장\n",
        "# 체중(5Kg 단위) -> 체중\n",
        "#연령대코드(5세단위) -> 연령대코드\n",
        "\n",
        "df.rename(columns={'신장(5Cm단위)': '신장', '체중(5Kg 단위)': '체중','연령대코드(5세단위)' : '연령대'}, inplace=True)"
      ],
      "metadata": {
        "id": "KQTCnlHAqtmM"
      },
      "execution_count": 10,
      "outputs": []
    },
    {
      "cell_type": "markdown",
      "source": [
        "### 음주 및 흡연과 비만율(BMI)과의 상관관계 알아보기위해 데이터프레임(df_1) 만들기"
      ],
      "metadata": {
        "id": "nEF3JjhrqVKJ"
      }
    },
    {
      "cell_type": "code",
      "source": [
        "#관심있는 Columns만 추출하여 알아보기\n",
        "df_1 = df[['성별코드', '연령대','신장','체중','허리둘레','흡연상태','음주여부']]\n",
        "\n",
        "df_1.head()"
      ],
      "metadata": {
        "colab": {
          "base_uri": "https://localhost:8080/",
          "height": 206
        },
        "id": "SWHVnGABlJQG",
        "outputId": "079bd6d8-5b65-43f0-940f-6813db7783bd"
      },
      "execution_count": 11,
      "outputs": [
        {
          "output_type": "execute_result",
          "data": {
            "text/plain": [
              "  성별코드  연령대   신장  체중  허리둘레 흡연상태 음주여부\n",
              "0    M    9  165  60  72.1   No   No\n",
              "1    F   13  150  65  81.0   No   No\n",
              "2    F   12  155  55  70.0   No   No\n",
              "3    M   13  160  70  90.8   No   No\n",
              "4    F   12  155  50  75.2   No   No"
            ],
            "text/html": [
              "\n",
              "  <div id=\"df-20a91024-05ca-4c61-8b58-5f979929b0ad\">\n",
              "    <div class=\"colab-df-container\">\n",
              "      <div>\n",
              "<style scoped>\n",
              "    .dataframe tbody tr th:only-of-type {\n",
              "        vertical-align: middle;\n",
              "    }\n",
              "\n",
              "    .dataframe tbody tr th {\n",
              "        vertical-align: top;\n",
              "    }\n",
              "\n",
              "    .dataframe thead th {\n",
              "        text-align: right;\n",
              "    }\n",
              "</style>\n",
              "<table border=\"1\" class=\"dataframe\">\n",
              "  <thead>\n",
              "    <tr style=\"text-align: right;\">\n",
              "      <th></th>\n",
              "      <th>성별코드</th>\n",
              "      <th>연령대</th>\n",
              "      <th>신장</th>\n",
              "      <th>체중</th>\n",
              "      <th>허리둘레</th>\n",
              "      <th>흡연상태</th>\n",
              "      <th>음주여부</th>\n",
              "    </tr>\n",
              "  </thead>\n",
              "  <tbody>\n",
              "    <tr>\n",
              "      <th>0</th>\n",
              "      <td>M</td>\n",
              "      <td>9</td>\n",
              "      <td>165</td>\n",
              "      <td>60</td>\n",
              "      <td>72.1</td>\n",
              "      <td>No</td>\n",
              "      <td>No</td>\n",
              "    </tr>\n",
              "    <tr>\n",
              "      <th>1</th>\n",
              "      <td>F</td>\n",
              "      <td>13</td>\n",
              "      <td>150</td>\n",
              "      <td>65</td>\n",
              "      <td>81.0</td>\n",
              "      <td>No</td>\n",
              "      <td>No</td>\n",
              "    </tr>\n",
              "    <tr>\n",
              "      <th>2</th>\n",
              "      <td>F</td>\n",
              "      <td>12</td>\n",
              "      <td>155</td>\n",
              "      <td>55</td>\n",
              "      <td>70.0</td>\n",
              "      <td>No</td>\n",
              "      <td>No</td>\n",
              "    </tr>\n",
              "    <tr>\n",
              "      <th>3</th>\n",
              "      <td>M</td>\n",
              "      <td>13</td>\n",
              "      <td>160</td>\n",
              "      <td>70</td>\n",
              "      <td>90.8</td>\n",
              "      <td>No</td>\n",
              "      <td>No</td>\n",
              "    </tr>\n",
              "    <tr>\n",
              "      <th>4</th>\n",
              "      <td>F</td>\n",
              "      <td>12</td>\n",
              "      <td>155</td>\n",
              "      <td>50</td>\n",
              "      <td>75.2</td>\n",
              "      <td>No</td>\n",
              "      <td>No</td>\n",
              "    </tr>\n",
              "  </tbody>\n",
              "</table>\n",
              "</div>\n",
              "      <button class=\"colab-df-convert\" onclick=\"convertToInteractive('df-20a91024-05ca-4c61-8b58-5f979929b0ad')\"\n",
              "              title=\"Convert this dataframe to an interactive table.\"\n",
              "              style=\"display:none;\">\n",
              "        \n",
              "  <svg xmlns=\"http://www.w3.org/2000/svg\" height=\"24px\"viewBox=\"0 0 24 24\"\n",
              "       width=\"24px\">\n",
              "    <path d=\"M0 0h24v24H0V0z\" fill=\"none\"/>\n",
              "    <path d=\"M18.56 5.44l.94 2.06.94-2.06 2.06-.94-2.06-.94-.94-2.06-.94 2.06-2.06.94zm-11 1L8.5 8.5l.94-2.06 2.06-.94-2.06-.94L8.5 2.5l-.94 2.06-2.06.94zm10 10l.94 2.06.94-2.06 2.06-.94-2.06-.94-.94-2.06-.94 2.06-2.06.94z\"/><path d=\"M17.41 7.96l-1.37-1.37c-.4-.4-.92-.59-1.43-.59-.52 0-1.04.2-1.43.59L10.3 9.45l-7.72 7.72c-.78.78-.78 2.05 0 2.83L4 21.41c.39.39.9.59 1.41.59.51 0 1.02-.2 1.41-.59l7.78-7.78 2.81-2.81c.8-.78.8-2.07 0-2.86zM5.41 20L4 18.59l7.72-7.72 1.47 1.35L5.41 20z\"/>\n",
              "  </svg>\n",
              "      </button>\n",
              "      \n",
              "  <style>\n",
              "    .colab-df-container {\n",
              "      display:flex;\n",
              "      flex-wrap:wrap;\n",
              "      gap: 12px;\n",
              "    }\n",
              "\n",
              "    .colab-df-convert {\n",
              "      background-color: #E8F0FE;\n",
              "      border: none;\n",
              "      border-radius: 50%;\n",
              "      cursor: pointer;\n",
              "      display: none;\n",
              "      fill: #1967D2;\n",
              "      height: 32px;\n",
              "      padding: 0 0 0 0;\n",
              "      width: 32px;\n",
              "    }\n",
              "\n",
              "    .colab-df-convert:hover {\n",
              "      background-color: #E2EBFA;\n",
              "      box-shadow: 0px 1px 2px rgba(60, 64, 67, 0.3), 0px 1px 3px 1px rgba(60, 64, 67, 0.15);\n",
              "      fill: #174EA6;\n",
              "    }\n",
              "\n",
              "    [theme=dark] .colab-df-convert {\n",
              "      background-color: #3B4455;\n",
              "      fill: #D2E3FC;\n",
              "    }\n",
              "\n",
              "    [theme=dark] .colab-df-convert:hover {\n",
              "      background-color: #434B5C;\n",
              "      box-shadow: 0px 1px 3px 1px rgba(0, 0, 0, 0.15);\n",
              "      filter: drop-shadow(0px 1px 2px rgba(0, 0, 0, 0.3));\n",
              "      fill: #FFFFFF;\n",
              "    }\n",
              "  </style>\n",
              "\n",
              "      <script>\n",
              "        const buttonEl =\n",
              "          document.querySelector('#df-20a91024-05ca-4c61-8b58-5f979929b0ad button.colab-df-convert');\n",
              "        buttonEl.style.display =\n",
              "          google.colab.kernel.accessAllowed ? 'block' : 'none';\n",
              "\n",
              "        async function convertToInteractive(key) {\n",
              "          const element = document.querySelector('#df-20a91024-05ca-4c61-8b58-5f979929b0ad');\n",
              "          const dataTable =\n",
              "            await google.colab.kernel.invokeFunction('convertToInteractive',\n",
              "                                                     [key], {});\n",
              "          if (!dataTable) return;\n",
              "\n",
              "          const docLinkHtml = 'Like what you see? Visit the ' +\n",
              "            '<a target=\"_blank\" href=https://colab.research.google.com/notebooks/data_table.ipynb>data table notebook</a>'\n",
              "            + ' to learn more about interactive tables.';\n",
              "          element.innerHTML = '';\n",
              "          dataTable['output_type'] = 'display_data';\n",
              "          await google.colab.output.renderOutput(dataTable, element);\n",
              "          const docLink = document.createElement('div');\n",
              "          docLink.innerHTML = docLinkHtml;\n",
              "          element.appendChild(docLink);\n",
              "        }\n",
              "      </script>\n",
              "    </div>\n",
              "  </div>\n",
              "  "
            ]
          },
          "metadata": {},
          "execution_count": 11
        }
      ]
    },
    {
      "cell_type": "markdown",
      "source": [
        "![image.png](\n",
        "  \n",
        ")![image.png](data:image/png;base64,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)"
      ],
      "metadata": {
        "id": "rnM0UiaJrtWj"
      }
    },
    {
      "cell_type": "code",
      "source": [
        "#알아보기 쉽게 연령대 값 변경\n",
        "\n",
        "df_1['연령대'].replace({1: '0-4',2: '5-9',\n",
        "                   3: '10-14',4: '15-19',\n",
        "                   5: '20-24',6: '25-29',\n",
        "                   7: '30-34',8: '35-39',\n",
        "                   9: '40-44',10: '45-49',\n",
        "                   11: '50-54',12: '55-59',\n",
        "                   13: '60-64',14: '65-69',\n",
        "                   15: '70-74',16: '75-79',\n",
        "                   17: '80-84',18: '85-'}, inplace=True)"
      ],
      "metadata": {
        "colab": {
          "base_uri": "https://localhost:8080/"
        },
        "id": "BTs7e5pO0tCI",
        "outputId": "4a38caa0-f750-4a2c-dcc6-d646bb028c38"
      },
      "execution_count": 12,
      "outputs": [
        {
          "output_type": "stream",
          "name": "stderr",
          "text": [
            "/usr/local/lib/python3.7/dist-packages/pandas/core/generic.py:6619: SettingWithCopyWarning: \n",
            "A value is trying to be set on a copy of a slice from a DataFrame\n",
            "\n",
            "See the caveats in the documentation: https://pandas.pydata.org/pandas-docs/stable/user_guide/indexing.html#returning-a-view-versus-a-copy\n",
            "  return self._update_inplace(result)\n"
          ]
        }
      ]
    },
    {
      "cell_type": "code",
      "source": [
        "#결측치있는 행 제거 \n",
        "##흡연상태에 2개의 결측치, 음주여부에 1개의 결측치가 있음\n",
        "\n",
        "df_1.info()\n",
        "df_1 = df_1.dropna(axis=0)"
      ],
      "metadata": {
        "colab": {
          "base_uri": "https://localhost:8080/"
        },
        "id": "UKvP9X8GSIpS",
        "outputId": "6f143890-6ce5-4870-c148-e99e6c9bc3e4"
      },
      "execution_count": 13,
      "outputs": [
        {
          "output_type": "stream",
          "name": "stdout",
          "text": [
            "<class 'pandas.core.frame.DataFrame'>\n",
            "RangeIndex: 10000 entries, 0 to 9999\n",
            "Data columns (total 7 columns):\n",
            " #   Column  Non-Null Count  Dtype  \n",
            "---  ------  --------------  -----  \n",
            " 0   성별코드    10000 non-null  object \n",
            " 1   연령대     10000 non-null  object \n",
            " 2   신장      10000 non-null  int64  \n",
            " 3   체중      10000 non-null  int64  \n",
            " 4   허리둘레    10000 non-null  float64\n",
            " 5   흡연상태    9998 non-null   object \n",
            " 6   음주여부    9999 non-null   object \n",
            "dtypes: float64(1), int64(2), object(4)\n",
            "memory usage: 547.0+ KB\n"
          ]
        }
      ]
    },
    {
      "cell_type": "code",
      "source": [
        "#3개의 행이 제거됨 -> 9997개의 데이터를 활용하여 분석\n",
        "df_1.info()"
      ],
      "metadata": {
        "colab": {
          "base_uri": "https://localhost:8080/"
        },
        "id": "S14MGKQ8Sso7",
        "outputId": "d54faf90-a4c0-47dd-b09f-d6725f49aa86"
      },
      "execution_count": 14,
      "outputs": [
        {
          "output_type": "stream",
          "name": "stdout",
          "text": [
            "<class 'pandas.core.frame.DataFrame'>\n",
            "Int64Index: 9997 entries, 0 to 9999\n",
            "Data columns (total 7 columns):\n",
            " #   Column  Non-Null Count  Dtype  \n",
            "---  ------  --------------  -----  \n",
            " 0   성별코드    9997 non-null   object \n",
            " 1   연령대     9997 non-null   object \n",
            " 2   신장      9997 non-null   int64  \n",
            " 3   체중      9997 non-null   int64  \n",
            " 4   허리둘레    9997 non-null   float64\n",
            " 5   흡연상태    9997 non-null   object \n",
            " 6   음주여부    9997 non-null   object \n",
            "dtypes: float64(1), int64(2), object(4)\n",
            "memory usage: 624.8+ KB\n"
          ]
        }
      ]
    },
    {
      "cell_type": "markdown",
      "source": [
        "![bmi.png](data:image/png;base64,iVBORw0KGgoAAAANSUhEUgAAANsAAACCCAMAAAD43E1NAAAAY1BMVEX///8AAACOjo4nJyfq6ur39/fx8fHc3Nzf39/l5eXR0dHZ2dl6enptbW2fn5++vr6VlZUbGxsQEBBISEg4ODhVVVWwsLBNTU0/Pz/KysqAgIAxMTFeXl4iIiJjY2OGhoanp6f51IPFAAAGZElEQVR4nO2b6ZqjKhBAxS3uGqNG4/r+T9lhEcE9ne5o+Dg/5k5wPRehitJRFIlEIpFIJBKJRCKRSCQSyYkw7Vn0350taNs2VJzK96vwb+/zN0RglhvZbFbxdYa4mz9b/jy0MUJ4BudTBsssuN3JZjOd396RzSHD0+b23KQq0O1qHSTE8J7bBcQU4GG36FRu16xgScdudZreKemdcXNZX/WMbrXNthj+2M3njjCW3KJvdGu4I3TGTX+0EPWhndUt7tgpIbvtd6NtN9x2PretuWT5meyx4OQffqNb+WDxZtyK+tnmns0t0BJMCW+Z/qjI5o0Y0JPBNsM8mVufc+komQj0Uc610w31fpqm8ancKBa8vWLcaubzbhG3F5pah02ncPPuKQU+TiAZfqfV9vE9Luwv/1xut/lOIew/TwsnnKzM8xM9k/d1N0OfXwBhTHoaE+7tmZal5+dxS2ttkbpWLsmaekdP84AuaKieaJ50nTX2uoVX0Mf3JTezy8YUBncrDs2LmATQYNdP+ET4p/u2+qVccwvIXhbay111c+dOcAsZvWZyXu4wj+x6wT/5aXqJiFmBMWsxtO42u4DSwYtrKm3pAoe9GrnYS27Pzh76aIgij8E4WHILlD1s5FwD8Dq5PWnOavbSL7qBnHoMbvehVjM0/q8b3DG5jBqdBs76oOlv51W3IQ1nov9wkaHt125xWrGUu91cPCCHKP+yW9yXwxg3WiEz/8Ct5it27f5+K2C3tcMA2XBr6XClU0c7dfP6o8JD3eACgC1EbrixU/cDN1XmxK1kb+TtZ1INWO4vuBkh9/9lw42tWRq463KddStRRCW6aA0S1++5zbDXbcQLbmSC591S9B/yJKDFfFKtuhnuFHrl49y6mWfSV+GfD9wUwsGceqtubjKJz+DeZ7rIjU8rYctNGQOvWm7lOvdauwbILd58Jvmbxm4eWsBXuA11bButu82kTtQtq5qmKazLgKtWTeUpY0JVVaOtVyD283hdcdLnObkwP+OWocgIMoVzK2BuilMELJ8Fv3czzCf8Dc40vcb0BMStMAl6MZom+2fShE81Dno6WoEZ6rqbNnW7vXXzL7MUuxP6IBA3nDMH9JhYWXezHv4E1Rhf/gC3uB3nyj4e/8gkxA3rbooxw0fVlvotz+gevVuB2vW+pdtyO57FfFIdjTdctUaTDgra7he70VVm74Zz/4y8dniOx29xi2iNIEivRI6ETOqGJtDnyqIgShtu5gyHuLGh3yEFRBJJqRuK3gDnCtBh3c2Jp49CAuU69T+J7Ikbl3MVODSVIze8q63APPIabrktxu718uS71IzJnJuBs2CS9VM39CoPhKjUmVu/dmtWypNvU+fuulu/ZBu5GWjAPRzYq3BB/7obykv0/4XReKHfcIqcdnAgqZtul3sypmwOybk4N1LZjfGvwQ29pyzReIG16m/JS2bWOH0haXCzhzcwsAMOiG+6UxTO7s4nbsOaznB8MnuTRfbgplS9GurST7uZmQefmbrqdh5A3LSyR+tD92jdDf9KS0Ao9H3arQOgcQ03332RvfVJ5Fb0G9G2T7sFoIHXsjWQ7hu4i250IcC46WTbFQWRT7tZIRo5ZgPSfUNuwe3a0T0YN4XELPxi4KBc2U7AtK4yy5zb9cYsTTk3MoPikvNBbhGIpy92GIaNdjtONqOs4CpheHLEASFjBfDM4hO3fkHxpx4zuHy9/D1Q/cgkBibzg9vAb/o/wlqbfI4iCBnQ3n/rfE46UImqlgEfzf76hxPTDxDCipRhmBEQrvPMGDSwgtvMvd3/SroySfDU6NEA/IVuhsWBBdCCGI2vbPjs5MMFsz/AuecMiYcMkNvRd/Y+Dv/qpxHKrebccKYqiJsdRP2IgguOViQ3hoSm3eK5QaEO/U04N/g+jBQ1xHCD6ZRuW7YTZjBMk89KxHDrtJJ998N+73Hwnb2Pw1c2VNwqhptO/zUH6j5S6hbDTVE1/6F2WRiir5RJoyButoOHGPo8vq+PCuJGQBVeWl4Vyg19UXWlxSyR3PSKmSQVsdzQO758+C2OG/5E4s6sq0VxM1WklrMf8YrhZqs4eOdc9VEMtwIvux98YVUMN/j5Nrhmo5qxIG6KBarJ9/KiuCkzX5QL4zaDdPtORHYLfc9rtnf7Sg74xk0ikUgkEolEIpFIJBKJRPI1/AD46HZiaEROfQAAAABJRU5ErkJggg==)"
      ],
      "metadata": {
        "id": "s93gsJsi4eq9"
      }
    },
    {
      "cell_type": "code",
      "source": [
        "#음주 및 흡연과 비만율(BMI)과의 상관관계 알아보기위해 BMI 열 새로 만들기\n",
        "\n",
        "df_1['BMI'] = df_1['체중'] /  (df_1['신장'] *  df_1['신장']) * 10000"
      ],
      "metadata": {
        "id": "6tLmUuI9lJSs"
      },
      "execution_count": 15,
      "outputs": []
    },
    {
      "cell_type": "markdown",
      "source": [],
      "metadata": {
        "id": "CZcYnBOD4qFa"
      }
    },
    {
      "cell_type": "code",
      "source": [
        "#잘 생성되었는지 확인\n",
        "df_1.head()"
      ],
      "metadata": {
        "id": "uRJoIXsQlJYc",
        "colab": {
          "base_uri": "https://localhost:8080/",
          "height": 206
        },
        "outputId": "9cd9f89a-93a9-4fdd-dd58-15dd45f398a4"
      },
      "execution_count": 16,
      "outputs": [
        {
          "output_type": "execute_result",
          "data": {
            "text/plain": [
              "  성별코드    연령대   신장  체중  허리둘레 흡연상태 음주여부        BMI\n",
              "0    M  40-44  165  60  72.1   No   No  22.038567\n",
              "1    F  60-64  150  65  81.0   No   No  28.888889\n",
              "2    F  55-59  155  55  70.0   No   No  22.892820\n",
              "3    M  60-64  160  70  90.8   No   No  27.343750\n",
              "4    F  55-59  155  50  75.2   No   No  20.811655"
            ],
            "text/html": [
              "\n",
              "  <div id=\"df-dd177cb2-0c9e-48cd-a488-fd27610029bd\">\n",
              "    <div class=\"colab-df-container\">\n",
              "      <div>\n",
              "<style scoped>\n",
              "    .dataframe tbody tr th:only-of-type {\n",
              "        vertical-align: middle;\n",
              "    }\n",
              "\n",
              "    .dataframe tbody tr th {\n",
              "        vertical-align: top;\n",
              "    }\n",
              "\n",
              "    .dataframe thead th {\n",
              "        text-align: right;\n",
              "    }\n",
              "</style>\n",
              "<table border=\"1\" class=\"dataframe\">\n",
              "  <thead>\n",
              "    <tr style=\"text-align: right;\">\n",
              "      <th></th>\n",
              "      <th>성별코드</th>\n",
              "      <th>연령대</th>\n",
              "      <th>신장</th>\n",
              "      <th>체중</th>\n",
              "      <th>허리둘레</th>\n",
              "      <th>흡연상태</th>\n",
              "      <th>음주여부</th>\n",
              "      <th>BMI</th>\n",
              "    </tr>\n",
              "  </thead>\n",
              "  <tbody>\n",
              "    <tr>\n",
              "      <th>0</th>\n",
              "      <td>M</td>\n",
              "      <td>40-44</td>\n",
              "      <td>165</td>\n",
              "      <td>60</td>\n",
              "      <td>72.1</td>\n",
              "      <td>No</td>\n",
              "      <td>No</td>\n",
              "      <td>22.038567</td>\n",
              "    </tr>\n",
              "    <tr>\n",
              "      <th>1</th>\n",
              "      <td>F</td>\n",
              "      <td>60-64</td>\n",
              "      <td>150</td>\n",
              "      <td>65</td>\n",
              "      <td>81.0</td>\n",
              "      <td>No</td>\n",
              "      <td>No</td>\n",
              "      <td>28.888889</td>\n",
              "    </tr>\n",
              "    <tr>\n",
              "      <th>2</th>\n",
              "      <td>F</td>\n",
              "      <td>55-59</td>\n",
              "      <td>155</td>\n",
              "      <td>55</td>\n",
              "      <td>70.0</td>\n",
              "      <td>No</td>\n",
              "      <td>No</td>\n",
              "      <td>22.892820</td>\n",
              "    </tr>\n",
              "    <tr>\n",
              "      <th>3</th>\n",
              "      <td>M</td>\n",
              "      <td>60-64</td>\n",
              "      <td>160</td>\n",
              "      <td>70</td>\n",
              "      <td>90.8</td>\n",
              "      <td>No</td>\n",
              "      <td>No</td>\n",
              "      <td>27.343750</td>\n",
              "    </tr>\n",
              "    <tr>\n",
              "      <th>4</th>\n",
              "      <td>F</td>\n",
              "      <td>55-59</td>\n",
              "      <td>155</td>\n",
              "      <td>50</td>\n",
              "      <td>75.2</td>\n",
              "      <td>No</td>\n",
              "      <td>No</td>\n",
              "      <td>20.811655</td>\n",
              "    </tr>\n",
              "  </tbody>\n",
              "</table>\n",
              "</div>\n",
              "      <button class=\"colab-df-convert\" onclick=\"convertToInteractive('df-dd177cb2-0c9e-48cd-a488-fd27610029bd')\"\n",
              "              title=\"Convert this dataframe to an interactive table.\"\n",
              "              style=\"display:none;\">\n",
              "        \n",
              "  <svg xmlns=\"http://www.w3.org/2000/svg\" height=\"24px\"viewBox=\"0 0 24 24\"\n",
              "       width=\"24px\">\n",
              "    <path d=\"M0 0h24v24H0V0z\" fill=\"none\"/>\n",
              "    <path d=\"M18.56 5.44l.94 2.06.94-2.06 2.06-.94-2.06-.94-.94-2.06-.94 2.06-2.06.94zm-11 1L8.5 8.5l.94-2.06 2.06-.94-2.06-.94L8.5 2.5l-.94 2.06-2.06.94zm10 10l.94 2.06.94-2.06 2.06-.94-2.06-.94-.94-2.06-.94 2.06-2.06.94z\"/><path d=\"M17.41 7.96l-1.37-1.37c-.4-.4-.92-.59-1.43-.59-.52 0-1.04.2-1.43.59L10.3 9.45l-7.72 7.72c-.78.78-.78 2.05 0 2.83L4 21.41c.39.39.9.59 1.41.59.51 0 1.02-.2 1.41-.59l7.78-7.78 2.81-2.81c.8-.78.8-2.07 0-2.86zM5.41 20L4 18.59l7.72-7.72 1.47 1.35L5.41 20z\"/>\n",
              "  </svg>\n",
              "      </button>\n",
              "      \n",
              "  <style>\n",
              "    .colab-df-container {\n",
              "      display:flex;\n",
              "      flex-wrap:wrap;\n",
              "      gap: 12px;\n",
              "    }\n",
              "\n",
              "    .colab-df-convert {\n",
              "      background-color: #E8F0FE;\n",
              "      border: none;\n",
              "      border-radius: 50%;\n",
              "      cursor: pointer;\n",
              "      display: none;\n",
              "      fill: #1967D2;\n",
              "      height: 32px;\n",
              "      padding: 0 0 0 0;\n",
              "      width: 32px;\n",
              "    }\n",
              "\n",
              "    .colab-df-convert:hover {\n",
              "      background-color: #E2EBFA;\n",
              "      box-shadow: 0px 1px 2px rgba(60, 64, 67, 0.3), 0px 1px 3px 1px rgba(60, 64, 67, 0.15);\n",
              "      fill: #174EA6;\n",
              "    }\n",
              "\n",
              "    [theme=dark] .colab-df-convert {\n",
              "      background-color: #3B4455;\n",
              "      fill: #D2E3FC;\n",
              "    }\n",
              "\n",
              "    [theme=dark] .colab-df-convert:hover {\n",
              "      background-color: #434B5C;\n",
              "      box-shadow: 0px 1px 3px 1px rgba(0, 0, 0, 0.15);\n",
              "      filter: drop-shadow(0px 1px 2px rgba(0, 0, 0, 0.3));\n",
              "      fill: #FFFFFF;\n",
              "    }\n",
              "  </style>\n",
              "\n",
              "      <script>\n",
              "        const buttonEl =\n",
              "          document.querySelector('#df-dd177cb2-0c9e-48cd-a488-fd27610029bd button.colab-df-convert');\n",
              "        buttonEl.style.display =\n",
              "          google.colab.kernel.accessAllowed ? 'block' : 'none';\n",
              "\n",
              "        async function convertToInteractive(key) {\n",
              "          const element = document.querySelector('#df-dd177cb2-0c9e-48cd-a488-fd27610029bd');\n",
              "          const dataTable =\n",
              "            await google.colab.kernel.invokeFunction('convertToInteractive',\n",
              "                                                     [key], {});\n",
              "          if (!dataTable) return;\n",
              "\n",
              "          const docLinkHtml = 'Like what you see? Visit the ' +\n",
              "            '<a target=\"_blank\" href=https://colab.research.google.com/notebooks/data_table.ipynb>data table notebook</a>'\n",
              "            + ' to learn more about interactive tables.';\n",
              "          element.innerHTML = '';\n",
              "          dataTable['output_type'] = 'display_data';\n",
              "          await google.colab.output.renderOutput(dataTable, element);\n",
              "          const docLink = document.createElement('div');\n",
              "          docLink.innerHTML = docLinkHtml;\n",
              "          element.appendChild(docLink);\n",
              "        }\n",
              "      </script>\n",
              "    </div>\n",
              "  </div>\n",
              "  "
            ]
          },
          "metadata": {},
          "execution_count": 16
        }
      ]
    },
    {
      "cell_type": "markdown",
      "source": [
        "![image.png](\n",
        "  \n",
        ")![image.png](data:image/png;base64,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)\n",
        "\n",
        "### https://health.seoulmc.or.kr/healthCareInfo/myBMIPopup.do"
      ],
      "metadata": {
        "id": "DSvO1Wu9TUf9"
      }
    },
    {
      "cell_type": "code",
      "source": [
        "#BMI지수에 따른 비만정도 알아보기 위해 grades 열 추가\n",
        "\n",
        "grades = []\n",
        "for row in df_1['BMI'] : \n",
        "  if row <= 18.5:\n",
        "    grades.append('저체중')\n",
        "  elif row <= 23:\n",
        "    grades.append('정상')\n",
        "  elif row <= 25:\n",
        "    grades.append('과체중')\n",
        "  else:\n",
        "    grades.append('비만')\n",
        "\n",
        "df_1['grades'] = grades"
      ],
      "metadata": {
        "id": "KnMa7sYBlJag"
      },
      "execution_count": 17,
      "outputs": []
    },
    {
      "cell_type": "code",
      "source": [
        "#잘 생성되었는지 확인\n",
        "df_1.head()"
      ],
      "metadata": {
        "id": "6FT4vreQlJcs",
        "colab": {
          "base_uri": "https://localhost:8080/",
          "height": 206
        },
        "outputId": "516994e7-eeec-456a-8c8c-1e3388b58549"
      },
      "execution_count": 18,
      "outputs": [
        {
          "output_type": "execute_result",
          "data": {
            "text/plain": [
              "  성별코드    연령대   신장  체중  허리둘레 흡연상태 음주여부        BMI grades\n",
              "0    M  40-44  165  60  72.1   No   No  22.038567     정상\n",
              "1    F  60-64  150  65  81.0   No   No  28.888889     비만\n",
              "2    F  55-59  155  55  70.0   No   No  22.892820     정상\n",
              "3    M  60-64  160  70  90.8   No   No  27.343750     비만\n",
              "4    F  55-59  155  50  75.2   No   No  20.811655     정상"
            ],
            "text/html": [
              "\n",
              "  <div id=\"df-14d90d6b-f9e5-4858-954f-9a3c62a676f3\">\n",
              "    <div class=\"colab-df-container\">\n",
              "      <div>\n",
              "<style scoped>\n",
              "    .dataframe tbody tr th:only-of-type {\n",
              "        vertical-align: middle;\n",
              "    }\n",
              "\n",
              "    .dataframe tbody tr th {\n",
              "        vertical-align: top;\n",
              "    }\n",
              "\n",
              "    .dataframe thead th {\n",
              "        text-align: right;\n",
              "    }\n",
              "</style>\n",
              "<table border=\"1\" class=\"dataframe\">\n",
              "  <thead>\n",
              "    <tr style=\"text-align: right;\">\n",
              "      <th></th>\n",
              "      <th>성별코드</th>\n",
              "      <th>연령대</th>\n",
              "      <th>신장</th>\n",
              "      <th>체중</th>\n",
              "      <th>허리둘레</th>\n",
              "      <th>흡연상태</th>\n",
              "      <th>음주여부</th>\n",
              "      <th>BMI</th>\n",
              "      <th>grades</th>\n",
              "    </tr>\n",
              "  </thead>\n",
              "  <tbody>\n",
              "    <tr>\n",
              "      <th>0</th>\n",
              "      <td>M</td>\n",
              "      <td>40-44</td>\n",
              "      <td>165</td>\n",
              "      <td>60</td>\n",
              "      <td>72.1</td>\n",
              "      <td>No</td>\n",
              "      <td>No</td>\n",
              "      <td>22.038567</td>\n",
              "      <td>정상</td>\n",
              "    </tr>\n",
              "    <tr>\n",
              "      <th>1</th>\n",
              "      <td>F</td>\n",
              "      <td>60-64</td>\n",
              "      <td>150</td>\n",
              "      <td>65</td>\n",
              "      <td>81.0</td>\n",
              "      <td>No</td>\n",
              "      <td>No</td>\n",
              "      <td>28.888889</td>\n",
              "      <td>비만</td>\n",
              "    </tr>\n",
              "    <tr>\n",
              "      <th>2</th>\n",
              "      <td>F</td>\n",
              "      <td>55-59</td>\n",
              "      <td>155</td>\n",
              "      <td>55</td>\n",
              "      <td>70.0</td>\n",
              "      <td>No</td>\n",
              "      <td>No</td>\n",
              "      <td>22.892820</td>\n",
              "      <td>정상</td>\n",
              "    </tr>\n",
              "    <tr>\n",
              "      <th>3</th>\n",
              "      <td>M</td>\n",
              "      <td>60-64</td>\n",
              "      <td>160</td>\n",
              "      <td>70</td>\n",
              "      <td>90.8</td>\n",
              "      <td>No</td>\n",
              "      <td>No</td>\n",
              "      <td>27.343750</td>\n",
              "      <td>비만</td>\n",
              "    </tr>\n",
              "    <tr>\n",
              "      <th>4</th>\n",
              "      <td>F</td>\n",
              "      <td>55-59</td>\n",
              "      <td>155</td>\n",
              "      <td>50</td>\n",
              "      <td>75.2</td>\n",
              "      <td>No</td>\n",
              "      <td>No</td>\n",
              "      <td>20.811655</td>\n",
              "      <td>정상</td>\n",
              "    </tr>\n",
              "  </tbody>\n",
              "</table>\n",
              "</div>\n",
              "      <button class=\"colab-df-convert\" onclick=\"convertToInteractive('df-14d90d6b-f9e5-4858-954f-9a3c62a676f3')\"\n",
              "              title=\"Convert this dataframe to an interactive table.\"\n",
              "              style=\"display:none;\">\n",
              "        \n",
              "  <svg xmlns=\"http://www.w3.org/2000/svg\" height=\"24px\"viewBox=\"0 0 24 24\"\n",
              "       width=\"24px\">\n",
              "    <path d=\"M0 0h24v24H0V0z\" fill=\"none\"/>\n",
              "    <path d=\"M18.56 5.44l.94 2.06.94-2.06 2.06-.94-2.06-.94-.94-2.06-.94 2.06-2.06.94zm-11 1L8.5 8.5l.94-2.06 2.06-.94-2.06-.94L8.5 2.5l-.94 2.06-2.06.94zm10 10l.94 2.06.94-2.06 2.06-.94-2.06-.94-.94-2.06-.94 2.06-2.06.94z\"/><path d=\"M17.41 7.96l-1.37-1.37c-.4-.4-.92-.59-1.43-.59-.52 0-1.04.2-1.43.59L10.3 9.45l-7.72 7.72c-.78.78-.78 2.05 0 2.83L4 21.41c.39.39.9.59 1.41.59.51 0 1.02-.2 1.41-.59l7.78-7.78 2.81-2.81c.8-.78.8-2.07 0-2.86zM5.41 20L4 18.59l7.72-7.72 1.47 1.35L5.41 20z\"/>\n",
              "  </svg>\n",
              "      </button>\n",
              "      \n",
              "  <style>\n",
              "    .colab-df-container {\n",
              "      display:flex;\n",
              "      flex-wrap:wrap;\n",
              "      gap: 12px;\n",
              "    }\n",
              "\n",
              "    .colab-df-convert {\n",
              "      background-color: #E8F0FE;\n",
              "      border: none;\n",
              "      border-radius: 50%;\n",
              "      cursor: pointer;\n",
              "      display: none;\n",
              "      fill: #1967D2;\n",
              "      height: 32px;\n",
              "      padding: 0 0 0 0;\n",
              "      width: 32px;\n",
              "    }\n",
              "\n",
              "    .colab-df-convert:hover {\n",
              "      background-color: #E2EBFA;\n",
              "      box-shadow: 0px 1px 2px rgba(60, 64, 67, 0.3), 0px 1px 3px 1px rgba(60, 64, 67, 0.15);\n",
              "      fill: #174EA6;\n",
              "    }\n",
              "\n",
              "    [theme=dark] .colab-df-convert {\n",
              "      background-color: #3B4455;\n",
              "      fill: #D2E3FC;\n",
              "    }\n",
              "\n",
              "    [theme=dark] .colab-df-convert:hover {\n",
              "      background-color: #434B5C;\n",
              "      box-shadow: 0px 1px 3px 1px rgba(0, 0, 0, 0.15);\n",
              "      filter: drop-shadow(0px 1px 2px rgba(0, 0, 0, 0.3));\n",
              "      fill: #FFFFFF;\n",
              "    }\n",
              "  </style>\n",
              "\n",
              "      <script>\n",
              "        const buttonEl =\n",
              "          document.querySelector('#df-14d90d6b-f9e5-4858-954f-9a3c62a676f3 button.colab-df-convert');\n",
              "        buttonEl.style.display =\n",
              "          google.colab.kernel.accessAllowed ? 'block' : 'none';\n",
              "\n",
              "        async function convertToInteractive(key) {\n",
              "          const element = document.querySelector('#df-14d90d6b-f9e5-4858-954f-9a3c62a676f3');\n",
              "          const dataTable =\n",
              "            await google.colab.kernel.invokeFunction('convertToInteractive',\n",
              "                                                     [key], {});\n",
              "          if (!dataTable) return;\n",
              "\n",
              "          const docLinkHtml = 'Like what you see? Visit the ' +\n",
              "            '<a target=\"_blank\" href=https://colab.research.google.com/notebooks/data_table.ipynb>data table notebook</a>'\n",
              "            + ' to learn more about interactive tables.';\n",
              "          element.innerHTML = '';\n",
              "          dataTable['output_type'] = 'display_data';\n",
              "          await google.colab.output.renderOutput(dataTable, element);\n",
              "          const docLink = document.createElement('div');\n",
              "          docLink.innerHTML = docLinkHtml;\n",
              "          element.appendChild(docLink);\n",
              "        }\n",
              "      </script>\n",
              "    </div>\n",
              "  </div>\n",
              "  "
            ]
          },
          "metadata": {},
          "execution_count": 18
        }
      ]
    },
    {
      "cell_type": "code",
      "source": [
        "df_1.info()"
      ],
      "metadata": {
        "id": "1ickB0m6lJes",
        "colab": {
          "base_uri": "https://localhost:8080/"
        },
        "outputId": "f2b2e02a-199c-491b-959d-8acfa93f220d"
      },
      "execution_count": 19,
      "outputs": [
        {
          "output_type": "stream",
          "name": "stdout",
          "text": [
            "<class 'pandas.core.frame.DataFrame'>\n",
            "Int64Index: 9997 entries, 0 to 9999\n",
            "Data columns (total 9 columns):\n",
            " #   Column  Non-Null Count  Dtype  \n",
            "---  ------  --------------  -----  \n",
            " 0   성별코드    9997 non-null   object \n",
            " 1   연령대     9997 non-null   object \n",
            " 2   신장      9997 non-null   int64  \n",
            " 3   체중      9997 non-null   int64  \n",
            " 4   허리둘레    9997 non-null   float64\n",
            " 5   흡연상태    9997 non-null   object \n",
            " 6   음주여부    9997 non-null   object \n",
            " 7   BMI     9997 non-null   float64\n",
            " 8   grades  9997 non-null   object \n",
            "dtypes: float64(2), int64(2), object(5)\n",
            "memory usage: 781.0+ KB\n"
          ]
        }
      ]
    },
    {
      "cell_type": "markdown",
      "source": [
        "## 그래프 1️⃣ : 상관관계분석 그래프를 활용하여 열의 relationship 알아보기"
      ],
      "metadata": {
        "id": "_mYrEDIIbEI2"
      }
    },
    {
      "cell_type": "code",
      "source": [
        "corrmat= df_1.corr()\n",
        "plt.figure(figsize=(10, 10))  \n",
        "sns.heatmap(corrmat,annot=True)"
      ],
      "metadata": {
        "id": "2IpDDmoflJil",
        "colab": {
          "base_uri": "https://localhost:8080/",
          "height": 613
        },
        "outputId": "8239cc50-9196-4c39-f380-13c7afcbdc74"
      },
      "execution_count": 20,
      "outputs": [
        {
          "output_type": "execute_result",
          "data": {
            "text/plain": [
              "<matplotlib.axes._subplots.AxesSubplot at 0x7fc70ee9a610>"
            ]
          },
          "metadata": {},
          "execution_count": 20
        },
        {
          "output_type": "display_data",
          "data": {
            "text/plain": [
              "<Figure size 720x720 with 2 Axes>"
            ],
            "image/png": "[encoded data removed]"
          },
          "metadata": {
            "needs_background": "light"
          }
        }
      ]
    },
    {
      "cell_type": "markdown",
      "source": [
        "##### Strong or high 상관관계 (r >= 0.7)\n",
        "- 체중-허리둘레\n",
        "- BMI - 허리둘레\n",
        "- 체중 - BMI\n",
        "\n",
        "##### Fair or moderate ( 0.4 <= r < 0.7)\n",
        "- 체중-신장\n",
        "\n",
        "##### Poor or week (0 <= r < 0.4)\n",
        "- 허리둘레-신장\n",
        "- 신장-BMI\n",
        "\n",
        "**인사이트**\n",
        "1.   신장과 비만율은 상관관계가 없다.\n",
        "2.   신장과 체중은 다소 상관관계가 있다.\n",
        "(= 키가 큰 사람은 체중이 많이 나가는 경향이 있다.)\n",
        "3. 허리둘레와 체중은 높은 상관관계가 있고 비만율과도 높은 상관관계가 있다.\n"
      ],
      "metadata": {
        "id": "xy82rnNzbQS9"
      }
    },
    {
      "cell_type": "markdown",
      "source": [
        "## 그래프 2️⃣ : 기초적인 정보를 파이차트로 시각화하여 각 비율을 알아보자\n",
        "- (성비, 비만여부, 흡연상태, 음주여부)"
      ],
      "metadata": {
        "id": "9M_yVO0_fS5A"
      }
    },
    {
      "cell_type": "code",
      "source": [
        "pie_labels_0 = df_1['성별코드'].value_counts().index.tolist()\n",
        "pie_values_0 = df_1['성별코드'].value_counts().values.tolist()"
      ],
      "metadata": {
        "id": "0jp6x4CTlJkr"
      },
      "execution_count": 36,
      "outputs": []
    },
    {
      "cell_type": "code",
      "source": [
        "plt.pie(pie_values_0, labels=pie_labels_0, autopct = '%.01f%%',wedgeprops = {'width':0.6})\n",
        "plt.title('성비 알아보기')\n",
        "plt.figure(figsize=(20, 20)) \n",
        "plt.show()"
      ],
      "metadata": {
        "id": "TOvl42hGlJmv",
        "colab": {
          "base_uri": "https://localhost:8080/",
          "height": 281
        },
        "outputId": "be011279-9060-4ef5-b7ce-49ff61a13c04"
      },
      "execution_count": 37,
      "outputs": [
        {
          "output_type": "display_data",
          "data": {
            "text/plain": [
              "<Figure size 432x288 with 1 Axes>"
            ],
            "image/png": "[encoded data removed]"
          },
          "metadata": {}
        },
        {
          "output_type": "display_data",
          "data": {
            "text/plain": [
              "<Figure size 1440x1440 with 0 Axes>"
            ]
          },
          "metadata": {}
        }
      ]
    },
    {
      "cell_type": "code",
      "source": [
        "pie_labels_1 = df_1['grades'].value_counts().index.tolist()\n",
        "pie_values_1 = df_1['grades'].value_counts().values.tolist()"
      ],
      "metadata": {
        "id": "RtKYUvZOlJpH"
      },
      "execution_count": 32,
      "outputs": []
    },
    {
      "cell_type": "code",
      "source": [
        "plt.pie(pie_values_1, labels=pie_labels_1, autopct = '%.01f%%',wedgeprops = {'width':0.6})\n",
        "plt.title('비만률 알아보기')\n",
        "plt.figure(figsize=(20, 20)) \n",
        "plt.show()\n"
      ],
      "metadata": {
        "id": "HEdKSr-RlJrL",
        "colab": {
          "base_uri": "https://localhost:8080/",
          "height": 281
        },
        "outputId": "a0cb69b0-fc1d-4f86-ae2a-4efa133e0452"
      },
      "execution_count": 33,
      "outputs": [
        {
          "output_type": "display_data",
          "data": {
            "text/plain": [
              "<Figure size 432x288 with 1 Axes>"
            ],
            "image/png": "[encoded data removed]"
          },
          "metadata": {}
        },
        {
          "output_type": "display_data",
          "data": {
            "text/plain": [
              "<Figure size 1440x1440 with 0 Axes>"
            ]
          },
          "metadata": {}
        }
      ]
    },
    {
      "cell_type": "code",
      "source": [
        "pie_labels_2 = df_1['흡연상태'].value_counts().index.tolist()\n",
        "pie_values_2 = df_1['흡연상태'].value_counts().values.tolist()"
      ],
      "metadata": {
        "id": "ckarki5fiat9"
      },
      "execution_count": 30,
      "outputs": []
    },
    {
      "cell_type": "code",
      "source": [
        "plt.pie(pie_values_2, labels=pie_labels_2, autopct = '%.01f%%',wedgeprops = {'width':0.6})\n",
        "plt.title('흡연상태 알아보기')\n",
        "plt.figure(figsize=(20, 20)) \n",
        "plt.show()\n"
      ],
      "metadata": {
        "colab": {
          "base_uri": "https://localhost:8080/",
          "height": 281
        },
        "id": "enXRXdP4rDbg",
        "outputId": "07e911b3-de1b-42bb-9308-5ee2411243fb"
      },
      "execution_count": 31,
      "outputs": [
        {
          "output_type": "display_data",
          "data": {
            "text/plain": [
              "<Figure size 432x288 with 1 Axes>"
            ],
            "image/png": "[encoded data removed]"
          },
          "metadata": {}
        },
        {
          "output_type": "display_data",
          "data": {
            "text/plain": [
              "<Figure size 1440x1440 with 0 Axes>"
            ]
          },
          "metadata": {}
        }
      ]
    },
    {
      "cell_type": "code",
      "source": [
        "pie_labels_3 = df_1['음주여부'].value_counts().index.tolist()\n",
        "pie_values_3 = df_1['음주여부'].value_counts().values.tolist()"
      ],
      "metadata": {
        "id": "KPF7Um9KrJkd"
      },
      "execution_count": 34,
      "outputs": []
    },
    {
      "cell_type": "code",
      "source": [
        "plt.pie(pie_values_3, labels=pie_labels_3, autopct = '%.01f%%',wedgeprops = {'width':0.6})\n",
        "plt.title('음주여부 알아보기')\n",
        "plt.figure(figsize=(20, 20)) \n",
        "plt.show()\n"
      ],
      "metadata": {
        "colab": {
          "base_uri": "https://localhost:8080/",
          "height": 281
        },
        "id": "KoTxIsR0rJTT",
        "outputId": "0fee6a73-dc48-4ffc-bc48-5c08dca6e2e4"
      },
      "execution_count": 35,
      "outputs": [
        {
          "output_type": "display_data",
          "data": {
            "text/plain": [
              "<Figure size 432x288 with 1 Axes>"
            ],
            "image/png": "[encoded data removed]"
          },
          "metadata": {}
        },
        {
          "output_type": "display_data",
          "data": {
            "text/plain": [
              "<Figure size 1440x1440 with 0 Axes>"
            ]
          },
          "metadata": {}
        }
      ]
    },
    {
      "cell_type": "markdown",
      "source": [
        "**인사이트**\n",
        "-   성비는 남자 51%, 여자 49% 가량으로 거의 반반이다.\n",
        "- 과체중 이상인 사람은 약 60%로 절반 이상을 차지한다.\n",
        "- 금연에 성공한 사람을 포함하여 약 81%가 현재 담배를 피고있지 않다. \n",
        "- 음주를 하지 않는 사람보다 음\b주를 하는 사람의 비율이 약 16% 높다.\n",
        "\n"
      ],
      "metadata": {
        "id": "TiOR18x7iL4P"
      }
    },
    {
      "cell_type": "markdown",
      "source": [],
      "metadata": {
        "id": "nt23tLmA3v3r"
      }
    },
    {
      "cell_type": "markdown",
      "source": [
        "## 그래프 3️⃣ : 음주 여부와 흡연 상태가 체중에 미치는 영향을 막대차트로 알아보자"
      ],
      "metadata": {
        "id": "WkgOxhAD3w8r"
      }
    },
    {
      "cell_type": "code",
      "source": [
        "grades_sum_by_drinkYes = df_1[df_1['음주여부'] == 'Yes'].groupby('grades').BMI.count()\n",
        "grades_sum_by_drinkNo = df_1[df_1['음주여부'] == 'No'].groupby('grades').BMI.count()\n",
        "\n",
        "print(grades_sum_by_drinkYes)\n",
        "print(grades_sum_by_drinkNo)"
      ],
      "metadata": {
        "colab": {
          "base_uri": "https://localhost:8080/"
        },
        "id": "YrGJlPwctrWJ",
        "outputId": "ca4544b8-0973-4920-9c4d-895215583842"
      },
      "execution_count": 43,
      "outputs": [
        {
          "output_type": "stream",
          "name": "stdout",
          "text": [
            "grades\n",
            "과체중    1333\n",
            "비만     2305\n",
            "저체중     194\n",
            "정상     1985\n",
            "Name: BMI, dtype: int64\n",
            "grades\n",
            "과체중     951\n",
            "비만     1392\n",
            "저체중     179\n",
            "정상     1658\n",
            "Name: BMI, dtype: int64\n"
          ]
        }
      ]
    },
    {
      "cell_type": "code",
      "source": [
        "#가나다 순으로 정렬된 grades의 순서를 저체중에서 비만까지 순서대로 재배열\n",
        "grades_order = ['저체중','정상','과체중','비만']\n",
        "grades_sum_by_drinkYes = grades_sum_by_drinkYes.loc[grades_order]\n",
        "grades_sum_by_drinkNo = grades_sum_by_drinkNo.loc[grades_order]"
      ],
      "metadata": {
        "id": "icYrz-0Kyf5O"
      },
      "execution_count": 53,
      "outputs": []
    },
    {
      "cell_type": "code",
      "source": [
        "alpha = 0.5\n",
        "\n",
        "p1 = plt.bar(grades_order, grades_sum_by_drinkYes, color='b', alpha=alpha)\n",
        "p2 = plt.bar(grades_order, grades_sum_by_drinkNo, color='r', alpha=alpha,\n",
        "             bottom=grades_sum_by_drinkYes) # stacked bar chart\n",
        "\n",
        "\n",
        "plt.title('음주여부가 체중에 미치는 영향 ', fontsize=15)\n",
        "plt.ylabel('인구 수', fontsize=13)\n",
        "plt.xlabel('BMI지수', fontsize=13)\n",
        "plt.legend((p1[0], p2[0]), ('음주O', '음주X'), fontsize=10)\n",
        "plt.show()"
      ],
      "metadata": {
        "colab": {
          "base_uri": "https://localhost:8080/",
          "height": 301
        },
        "id": "2BgtUhOMvkgU",
        "outputId": "b5874583-564e-419f-95a8-c74ceb389829"
      },
      "execution_count": 68,
      "outputs": [
        {
          "output_type": "display_data",
          "data": {
            "text/plain": [
              "<Figure size 432x288 with 1 Axes>"
            ],
            "image/png": "[encoded data removed]"
          },
          "metadata": {
            "needs_background": "light"
          }
        }
      ]
    },
    {
      "cell_type": "code",
      "source": [
        "grades_sum_by_smokeYes = df_1[df_1['흡연상태'] == 'Yes'].groupby('grades').BMI.count()\n",
        "grades_sum_by_smokeNo = df_1[df_1['흡연상태'] == 'No'].groupby('grades').BMI.count()\n",
        "grades_sum_by_smokeNotnow = df_1[df_1['흡연상태'] == 'NotNow'].groupby('grades').BMI.count()\n",
        "\n",
        "print(\"흡연자\")\n",
        "print(grades_sum_by_smokeYes)\n",
        "print(\"비흡연자\")\n",
        "print(grades_sum_by_smokeNo)\n",
        "print(\"금연자\")\n",
        "print(grades_sum_by_smokeNotnow)"
      ],
      "metadata": {
        "colab": {
          "base_uri": "https://localhost:8080/"
        },
        "id": "Kv3bickczV_s",
        "outputId": "0daf6210-1e0c-4fdc-c5eb-0c9ccd843922"
      },
      "execution_count": 63,
      "outputs": [
        {
          "output_type": "stream",
          "name": "stdout",
          "text": [
            "흡연자\n",
            "grades\n",
            "과체중    429\n",
            "비만     767\n",
            "저체중     68\n",
            "정상     577\n",
            "Name: BMI, dtype: int64\n",
            "비흡연자\n",
            "grades\n",
            "과체중    1417\n",
            "비만     2001\n",
            "저체중     262\n",
            "정상     2550\n",
            "Name: BMI, dtype: int64\n",
            "금연자\n",
            "grades\n",
            "과체중    438\n",
            "비만     929\n",
            "저체중     43\n",
            "정상     516\n",
            "Name: BMI, dtype: int64\n"
          ]
        }
      ]
    },
    {
      "cell_type": "code",
      "source": [
        "#가나다 순으로 정렬된 grades의 순서를 저체중에서 비만까지 순서대로 재배열\n",
        "grades_order = ['저체중','정상','과체중','비만']\n",
        "grades_sum_by_smokeYes = grades_sum_by_smokeYes.loc[grades_order]\n",
        "grades_sum_by_smokeNo = grades_sum_by_smokeNo.loc[grades_order]\n",
        "grades_sum_by_smokeNotnow = grades_sum_by_smokeNotnow.loc[grades_order]"
      ],
      "metadata": {
        "id": "ed_2jtZv1RW-"
      },
      "execution_count": 64,
      "outputs": []
    },
    {
      "cell_type": "code",
      "source": [
        "alpha = 0.5\n",
        "\n",
        "p3 = plt.bar(grades_order, grades_sum_by_smokeYes, color='b', alpha=alpha)\n",
        "p4 = plt.bar(grades_order, grades_sum_by_smokeNo, color='r', alpha=alpha,\n",
        "             bottom=grades_sum_by_smokeYes) # stacked bar chart\n",
        "p5 = plt.bar(grades_order, grades_sum_by_smokeNotnow, color='g', alpha=alpha,\n",
        "             bottom=grades_sum_by_smokeYes + grades_sum_by_smokeNo) # stacked bar chart\n",
        "\n",
        "\n",
        "plt.title('흡연여부가 체중에 미치는 영향 ', fontsize=15)\n",
        "plt.ylabel('인구 수', fontsize=13)\n",
        "plt.xlabel('BMI지수', fontsize=13)\n",
        "plt.legend((p3[0], p4[0], p5[0]), ('흡연', '비흡연','금연'), fontsize=10)\n",
        "plt.show()"
      ],
      "metadata": {
        "colab": {
          "base_uri": "https://localhost:8080/",
          "height": 301
        },
        "id": "iktTi_Rfx39S",
        "outputId": "cdab1828-872c-4777-e064-55ab7b27df88"
      },
      "execution_count": 69,
      "outputs": [
        {
          "output_type": "display_data",
          "data": {
            "text/plain": [
              "<Figure size 432x288 with 1 Axes>"
            ],
            "image/png": "[encoded data removed]"
          },
          "metadata": {
            "needs_background": "light"
          }
        }
      ]
    },
    {
      "cell_type": "markdown",
      "source": [
        "**인사이트**\n",
        "-   음주를 하는 사람들은 비만일 확률이 가장 높았으며 음주를 하지 않는 사람들은 정상체중일 확률이 가장 높다.\n",
        "- 마찬가지로 흡연자는 비만일 확률이 가장 높았으며 비흡연자는 정상체중일 확률이 가장 높았다.\n",
        "- 특이하게도 금연을 한 사람들은 비만일 확률이 정상체중일 확률보다 두배 가량 높다.\n",
        "\n"
      ],
      "metadata": {
        "id": "ozGXvNph2pXe"
      }
    }
  ]
}